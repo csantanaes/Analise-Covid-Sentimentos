{
 "cells": [
  {
   "cell_type": "markdown",
   "id": "198e77de",
   "metadata": {
    "papermill": {
     "duration": 0.023792,
     "end_time": "2022-01-23T02:19:28.656375",
     "exception": false,
     "start_time": "2022-01-23T02:19:28.632583",
     "status": "completed"
    },
    "tags": []
   },
   "source": [
    "# COVID-19 Tweet Sentiment Analysis using HuggingFace Pipelines"
   ]
  },
  {
   "cell_type": "code",
   "execution_count": 1,
   "id": "f8d2878b",
   "metadata": {
    "execution": {
     "iopub.execute_input": "2022-01-23T02:19:28.708391Z",
     "iopub.status.busy": "2022-01-23T02:19:28.707221Z",
     "iopub.status.idle": "2022-01-23T02:19:28.715000Z",
     "shell.execute_reply": "2022-01-23T02:19:28.715545Z",
     "shell.execute_reply.started": "2022-01-23T02:10:49.958869Z"
    },
    "papermill": {
     "duration": 0.035183,
     "end_time": "2022-01-23T02:19:28.715831",
     "exception": false,
     "start_time": "2022-01-23T02:19:28.680648",
     "status": "completed"
    },
    "tags": []
   },
   "outputs": [],
   "source": [
    "import numpy as np # linear algebra\n",
    "import pandas as pd # data processing, CSV file I/O (e.g. pd.read_csv)"
   ]
  },
  {
   "cell_type": "code",
   "execution_count": 2,
   "id": "6a3f3af6",
   "metadata": {
    "execution": {
     "iopub.execute_input": "2022-01-23T02:19:28.764930Z",
     "iopub.status.busy": "2022-01-23T02:19:28.764286Z",
     "iopub.status.idle": "2022-01-23T02:19:44.502510Z",
     "shell.execute_reply": "2022-01-23T02:19:44.501578Z",
     "shell.execute_reply.started": "2022-01-23T02:10:49.970894Z"
    },
    "papermill": {
     "duration": 15.763954,
     "end_time": "2022-01-23T02:19:44.502665",
     "exception": false,
     "start_time": "2022-01-23T02:19:28.738711",
     "status": "completed"
    },
    "tags": []
   },
   "outputs": [
    {
     "name": "stderr",
     "output_type": "stream",
     "text": [
      "/opt/conda/lib/python3.7/site-packages/IPython/core/interactiveshell.py:3444: DtypeWarning: Columns (1,2,3,4,5,7,8,9,10,11,15,16,17,18) have mixed types.Specify dtype option on import or set low_memory=False.\n",
      "  exec(code_obj, self.user_global_ns, self.user_ns)\n"
     ]
    }
   ],
   "source": [
    "data_df = pd.read_csv('/kaggle/input/800k-covid19-vaccine-tweets/vaccine_tweets.csv')"
   ]
  },
  {
   "cell_type": "code",
   "execution_count": 3,
   "id": "021d032f",
   "metadata": {
    "execution": {
     "iopub.execute_input": "2022-01-23T02:19:44.557818Z",
     "iopub.status.busy": "2022-01-23T02:19:44.557103Z",
     "iopub.status.idle": "2022-01-23T02:19:44.585511Z",
     "shell.execute_reply": "2022-01-23T02:19:44.584799Z",
     "shell.execute_reply.started": "2022-01-23T02:11:00.133160Z"
    },
    "papermill": {
     "duration": 0.059601,
     "end_time": "2022-01-23T02:19:44.585665",
     "exception": false,
     "start_time": "2022-01-23T02:19:44.526064",
     "status": "completed"
    },
    "tags": []
   },
   "outputs": [
    {
     "data": {
      "text/html": [
       "<div>\n",
       "<style scoped>\n",
       "    .dataframe tbody tr th:only-of-type {\n",
       "        vertical-align: middle;\n",
       "    }\n",
       "\n",
       "    .dataframe tbody tr th {\n",
       "        vertical-align: top;\n",
       "    }\n",
       "\n",
       "    .dataframe thead th {\n",
       "        text-align: right;\n",
       "    }\n",
       "</style>\n",
       "<table border=\"1\" class=\"dataframe\">\n",
       "  <thead>\n",
       "    <tr style=\"text-align: right;\">\n",
       "      <th></th>\n",
       "      <th>username</th>\n",
       "      <th>user_display_name</th>\n",
       "      <th>user_description</th>\n",
       "      <th>user_location</th>\n",
       "      <th>user_verified</th>\n",
       "      <th>user_protected</th>\n",
       "      <th>user_followers_count</th>\n",
       "      <th>user_friends_count</th>\n",
       "      <th>user_statuses_count</th>\n",
       "      <th>user_favourites_count</th>\n",
       "      <th>tweet_content</th>\n",
       "      <th>tweet_language</th>\n",
       "      <th>tweet_retweet_count</th>\n",
       "      <th>tweet_quote_count</th>\n",
       "      <th>tweet_reply_count</th>\n",
       "      <th>tweet_like_count</th>\n",
       "      <th>tweet_id</th>\n",
       "      <th>tweet_url</th>\n",
       "      <th>tweet_date</th>\n",
       "    </tr>\n",
       "  </thead>\n",
       "  <tbody>\n",
       "    <tr>\n",
       "      <th>0</th>\n",
       "      <td>JosephRLeduc</td>\n",
       "      <td>_|®$€¶H 🤪🇨🇦</td>\n",
       "      <td>I'm fully vaccinated and even wear a mask!\\nWh...</td>\n",
       "      <td>🇨🇦</td>\n",
       "      <td>False</td>\n",
       "      <td>False</td>\n",
       "      <td>4108.0</td>\n",
       "      <td>4771</td>\n",
       "      <td>21924</td>\n",
       "      <td>22908</td>\n",
       "      <td>Covid-19 denial and inaction from many politic...</td>\n",
       "      <td>en</td>\n",
       "      <td>0.0</td>\n",
       "      <td>0.0</td>\n",
       "      <td>0.0</td>\n",
       "      <td>0</td>\n",
       "      <td>1476898137860018179</td>\n",
       "      <td>https://twitter.com/JosephRLeduc/status/147689...</td>\n",
       "      <td>2021-12-31 12:48:50+00:00</td>\n",
       "    </tr>\n",
       "    <tr>\n",
       "      <th>1</th>\n",
       "      <td>MartinesPrisci</td>\n",
       "      <td>prisci martines</td>\n",
       "      <td>NaN</td>\n",
       "      <td>un mundo raro</td>\n",
       "      <td>False</td>\n",
       "      <td>False</td>\n",
       "      <td>2795.0</td>\n",
       "      <td>3538</td>\n",
       "      <td>361761</td>\n",
       "      <td>44778</td>\n",
       "      <td>Most of the World's Vaccines Likely Won't Prev...</td>\n",
       "      <td>en</td>\n",
       "      <td>0.0</td>\n",
       "      <td>0.0</td>\n",
       "      <td>0.0</td>\n",
       "      <td>0</td>\n",
       "      <td>1476898058667450368</td>\n",
       "      <td>https://twitter.com/MartinesPrisci/status/1476...</td>\n",
       "      <td>2021-12-31 12:48:31+00:00</td>\n",
       "    </tr>\n",
       "    <tr>\n",
       "      <th>2</th>\n",
       "      <td>SamerItani9</td>\n",
       "      <td>أبو عيسى</td>\n",
       "      <td>NaN</td>\n",
       "      <td>Dubai, United Arab Emirates</td>\n",
       "      <td>False</td>\n",
       "      <td>False</td>\n",
       "      <td>83.0</td>\n",
       "      <td>326</td>\n",
       "      <td>409</td>\n",
       "      <td>3977</td>\n",
       "      <td>@ibn_Haile_ Vaccines, contagion, epidemics are...</td>\n",
       "      <td>en</td>\n",
       "      <td>0.0</td>\n",
       "      <td>0.0</td>\n",
       "      <td>0.0</td>\n",
       "      <td>0</td>\n",
       "      <td>1476898049444229121</td>\n",
       "      <td>https://twitter.com/SamerItani9/status/1476898...</td>\n",
       "      <td>2021-12-31 12:48:29+00:00</td>\n",
       "    </tr>\n",
       "    <tr>\n",
       "      <th>3</th>\n",
       "      <td>HisLilSecretSHY</td>\n",
       "      <td>Shawnaaaa</td>\n",
       "      <td>IG:_SimplySW SC: Simply_SW</td>\n",
       "      <td>Me; Myselff &amp;&amp;' Shy ;* :)</td>\n",
       "      <td>False</td>\n",
       "      <td>False</td>\n",
       "      <td>708.0</td>\n",
       "      <td>159</td>\n",
       "      <td>49095</td>\n",
       "      <td>15864</td>\n",
       "      <td>..Your body is still acceptable to the virus t...</td>\n",
       "      <td>en</td>\n",
       "      <td>0.0</td>\n",
       "      <td>0.0</td>\n",
       "      <td>0.0</td>\n",
       "      <td>0</td>\n",
       "      <td>1476898030695686147</td>\n",
       "      <td>https://twitter.com/HisLilSecretSHY/status/147...</td>\n",
       "      <td>2021-12-31 12:48:24+00:00</td>\n",
       "    </tr>\n",
       "    <tr>\n",
       "      <th>4</th>\n",
       "      <td>MattM5001</td>\n",
       "      <td>Steve Howe</td>\n",
       "      <td>Awake but not Woke🇺🇸🇺🇸🇺🇸</td>\n",
       "      <td>Bowleys Quarters, MD</td>\n",
       "      <td>False</td>\n",
       "      <td>False</td>\n",
       "      <td>1215.0</td>\n",
       "      <td>2741</td>\n",
       "      <td>29427</td>\n",
       "      <td>111327</td>\n",
       "      <td>@DavidBaker2263 And….?   They never report the...</td>\n",
       "      <td>en</td>\n",
       "      <td>0.0</td>\n",
       "      <td>0.0</td>\n",
       "      <td>0.0</td>\n",
       "      <td>0</td>\n",
       "      <td>1476898005282394112</td>\n",
       "      <td>https://twitter.com/MattM5001/status/147689800...</td>\n",
       "      <td>2021-12-31 12:48:18+00:00</td>\n",
       "    </tr>\n",
       "  </tbody>\n",
       "</table>\n",
       "</div>"
      ],
      "text/plain": [
       "          username user_display_name  \\\n",
       "0     JosephRLeduc       _|®$€¶H 🤪🇨🇦   \n",
       "1   MartinesPrisci   prisci martines   \n",
       "2      SamerItani9          أبو عيسى   \n",
       "3  HisLilSecretSHY         Shawnaaaa   \n",
       "4        MattM5001        Steve Howe   \n",
       "\n",
       "                                    user_description  \\\n",
       "0  I'm fully vaccinated and even wear a mask!\\nWh...   \n",
       "1                                                NaN   \n",
       "2                                                NaN   \n",
       "3                         IG:_SimplySW SC: Simply_SW   \n",
       "4                           Awake but not Woke🇺🇸🇺🇸🇺🇸   \n",
       "\n",
       "                 user_location user_verified user_protected  \\\n",
       "0                          🇨🇦          False          False   \n",
       "1                un mundo raro         False          False   \n",
       "2  Dubai, United Arab Emirates         False          False   \n",
       "3    Me; Myselff &&' Shy ;* :)         False          False   \n",
       "4         Bowleys Quarters, MD         False          False   \n",
       "\n",
       "   user_followers_count user_friends_count user_statuses_count  \\\n",
       "0                4108.0               4771               21924   \n",
       "1                2795.0               3538              361761   \n",
       "2                  83.0                326                 409   \n",
       "3                 708.0                159               49095   \n",
       "4                1215.0               2741               29427   \n",
       "\n",
       "  user_favourites_count                                      tweet_content  \\\n",
       "0                 22908  Covid-19 denial and inaction from many politic...   \n",
       "1                 44778  Most of the World's Vaccines Likely Won't Prev...   \n",
       "2                  3977  @ibn_Haile_ Vaccines, contagion, epidemics are...   \n",
       "3                 15864  ..Your body is still acceptable to the virus t...   \n",
       "4                111327  @DavidBaker2263 And….?   They never report the...   \n",
       "\n",
       "  tweet_language  tweet_retweet_count  tweet_quote_count  tweet_reply_count  \\\n",
       "0             en                  0.0                0.0                0.0   \n",
       "1             en                  0.0                0.0                0.0   \n",
       "2             en                  0.0                0.0                0.0   \n",
       "3             en                  0.0                0.0                0.0   \n",
       "4             en                  0.0                0.0                0.0   \n",
       "\n",
       "  tweet_like_count             tweet_id  \\\n",
       "0                0  1476898137860018179   \n",
       "1                0  1476898058667450368   \n",
       "2                0  1476898049444229121   \n",
       "3                0  1476898030695686147   \n",
       "4                0  1476898005282394112   \n",
       "\n",
       "                                           tweet_url  \\\n",
       "0  https://twitter.com/JosephRLeduc/status/147689...   \n",
       "1  https://twitter.com/MartinesPrisci/status/1476...   \n",
       "2  https://twitter.com/SamerItani9/status/1476898...   \n",
       "3  https://twitter.com/HisLilSecretSHY/status/147...   \n",
       "4  https://twitter.com/MattM5001/status/147689800...   \n",
       "\n",
       "                  tweet_date  \n",
       "0  2021-12-31 12:48:50+00:00  \n",
       "1  2021-12-31 12:48:31+00:00  \n",
       "2  2021-12-31 12:48:29+00:00  \n",
       "3  2021-12-31 12:48:24+00:00  \n",
       "4  2021-12-31 12:48:18+00:00  "
      ]
     },
     "execution_count": 3,
     "metadata": {},
     "output_type": "execute_result"
    }
   ],
   "source": [
    "data_df.head(5)"
   ]
  },
  {
   "cell_type": "code",
   "execution_count": 4,
   "id": "f4ba437f",
   "metadata": {
    "execution": {
     "iopub.execute_input": "2022-01-23T02:19:44.640601Z",
     "iopub.status.busy": "2022-01-23T02:19:44.639884Z",
     "iopub.status.idle": "2022-01-23T02:19:44.643867Z",
     "shell.execute_reply": "2022-01-23T02:19:44.643359Z",
     "shell.execute_reply.started": "2022-01-23T02:11:00.160532Z"
    },
    "papermill": {
     "duration": 0.033081,
     "end_time": "2022-01-23T02:19:44.644011",
     "exception": false,
     "start_time": "2022-01-23T02:19:44.610930",
     "status": "completed"
    },
    "tags": []
   },
   "outputs": [
    {
     "data": {
      "text/plain": [
       "Index(['username', 'user_display_name', 'user_description', 'user_location',\n",
       "       'user_verified', 'user_protected', 'user_followers_count',\n",
       "       'user_friends_count', 'user_statuses_count', 'user_favourites_count',\n",
       "       'tweet_content', 'tweet_language', 'tweet_retweet_count',\n",
       "       'tweet_quote_count', 'tweet_reply_count', 'tweet_like_count',\n",
       "       'tweet_id', 'tweet_url', 'tweet_date'],\n",
       "      dtype='object')"
      ]
     },
     "execution_count": 4,
     "metadata": {},
     "output_type": "execute_result"
    }
   ],
   "source": [
    "data_df.columns"
   ]
  },
  {
   "cell_type": "code",
   "execution_count": 5,
   "id": "8f1d8fa3",
   "metadata": {
    "execution": {
     "iopub.execute_input": "2022-01-23T02:19:44.696965Z",
     "iopub.status.busy": "2022-01-23T02:19:44.695998Z",
     "iopub.status.idle": "2022-01-23T02:19:44.782495Z",
     "shell.execute_reply": "2022-01-23T02:19:44.781895Z",
     "shell.execute_reply.started": "2022-01-23T02:11:00.168939Z"
    },
    "papermill": {
     "duration": 0.114168,
     "end_time": "2022-01-23T02:19:44.782638",
     "exception": false,
     "start_time": "2022-01-23T02:19:44.668470",
     "status": "completed"
    },
    "tags": []
   },
   "outputs": [],
   "source": [
    "# Clean out columns I won't need for the sentiment analysis\n",
    "data_df.drop(columns=['user_location', 'user_verified', 'user_protected', 'user_followers_count',\n",
    "       'user_friends_count', 'user_statuses_count', 'user_favourites_count', 'tweet_id', 'tweet_url', 'tweet_retweet_count',\n",
    "       'tweet_quote_count', 'tweet_reply_count', 'tweet_like_count'], inplace=True)"
   ]
  },
  {
   "cell_type": "code",
   "execution_count": 6,
   "id": "8cabfc95",
   "metadata": {
    "execution": {
     "iopub.execute_input": "2022-01-23T02:19:44.844349Z",
     "iopub.status.busy": "2022-01-23T02:19:44.843462Z",
     "iopub.status.idle": "2022-01-23T02:19:44.846603Z",
     "shell.execute_reply": "2022-01-23T02:19:44.847095Z",
     "shell.execute_reply.started": "2022-01-23T02:11:00.255741Z"
    },
    "papermill": {
     "duration": 0.04034,
     "end_time": "2022-01-23T02:19:44.847289",
     "exception": false,
     "start_time": "2022-01-23T02:19:44.806949",
     "status": "completed"
    },
    "tags": []
   },
   "outputs": [
    {
     "data": {
      "text/html": [
       "<div>\n",
       "<style scoped>\n",
       "    .dataframe tbody tr th:only-of-type {\n",
       "        vertical-align: middle;\n",
       "    }\n",
       "\n",
       "    .dataframe tbody tr th {\n",
       "        vertical-align: top;\n",
       "    }\n",
       "\n",
       "    .dataframe thead th {\n",
       "        text-align: right;\n",
       "    }\n",
       "</style>\n",
       "<table border=\"1\" class=\"dataframe\">\n",
       "  <thead>\n",
       "    <tr style=\"text-align: right;\">\n",
       "      <th></th>\n",
       "      <th>username</th>\n",
       "      <th>user_display_name</th>\n",
       "      <th>user_description</th>\n",
       "      <th>tweet_content</th>\n",
       "      <th>tweet_language</th>\n",
       "      <th>tweet_date</th>\n",
       "    </tr>\n",
       "  </thead>\n",
       "  <tbody>\n",
       "    <tr>\n",
       "      <th>0</th>\n",
       "      <td>JosephRLeduc</td>\n",
       "      <td>_|®$€¶H 🤪🇨🇦</td>\n",
       "      <td>I'm fully vaccinated and even wear a mask!\\nWh...</td>\n",
       "      <td>Covid-19 denial and inaction from many politic...</td>\n",
       "      <td>en</td>\n",
       "      <td>2021-12-31 12:48:50+00:00</td>\n",
       "    </tr>\n",
       "    <tr>\n",
       "      <th>1</th>\n",
       "      <td>MartinesPrisci</td>\n",
       "      <td>prisci martines</td>\n",
       "      <td>NaN</td>\n",
       "      <td>Most of the World's Vaccines Likely Won't Prev...</td>\n",
       "      <td>en</td>\n",
       "      <td>2021-12-31 12:48:31+00:00</td>\n",
       "    </tr>\n",
       "    <tr>\n",
       "      <th>2</th>\n",
       "      <td>SamerItani9</td>\n",
       "      <td>أبو عيسى</td>\n",
       "      <td>NaN</td>\n",
       "      <td>@ibn_Haile_ Vaccines, contagion, epidemics are...</td>\n",
       "      <td>en</td>\n",
       "      <td>2021-12-31 12:48:29+00:00</td>\n",
       "    </tr>\n",
       "    <tr>\n",
       "      <th>3</th>\n",
       "      <td>HisLilSecretSHY</td>\n",
       "      <td>Shawnaaaa</td>\n",
       "      <td>IG:_SimplySW SC: Simply_SW</td>\n",
       "      <td>..Your body is still acceptable to the virus t...</td>\n",
       "      <td>en</td>\n",
       "      <td>2021-12-31 12:48:24+00:00</td>\n",
       "    </tr>\n",
       "    <tr>\n",
       "      <th>4</th>\n",
       "      <td>MattM5001</td>\n",
       "      <td>Steve Howe</td>\n",
       "      <td>Awake but not Woke🇺🇸🇺🇸🇺🇸</td>\n",
       "      <td>@DavidBaker2263 And….?   They never report the...</td>\n",
       "      <td>en</td>\n",
       "      <td>2021-12-31 12:48:18+00:00</td>\n",
       "    </tr>\n",
       "  </tbody>\n",
       "</table>\n",
       "</div>"
      ],
      "text/plain": [
       "          username user_display_name  \\\n",
       "0     JosephRLeduc       _|®$€¶H 🤪🇨🇦   \n",
       "1   MartinesPrisci   prisci martines   \n",
       "2      SamerItani9          أبو عيسى   \n",
       "3  HisLilSecretSHY         Shawnaaaa   \n",
       "4        MattM5001        Steve Howe   \n",
       "\n",
       "                                    user_description  \\\n",
       "0  I'm fully vaccinated and even wear a mask!\\nWh...   \n",
       "1                                                NaN   \n",
       "2                                                NaN   \n",
       "3                         IG:_SimplySW SC: Simply_SW   \n",
       "4                           Awake but not Woke🇺🇸🇺🇸🇺🇸   \n",
       "\n",
       "                                       tweet_content tweet_language  \\\n",
       "0  Covid-19 denial and inaction from many politic...             en   \n",
       "1  Most of the World's Vaccines Likely Won't Prev...             en   \n",
       "2  @ibn_Haile_ Vaccines, contagion, epidemics are...             en   \n",
       "3  ..Your body is still acceptable to the virus t...             en   \n",
       "4  @DavidBaker2263 And….?   They never report the...             en   \n",
       "\n",
       "                  tweet_date  \n",
       "0  2021-12-31 12:48:50+00:00  \n",
       "1  2021-12-31 12:48:31+00:00  \n",
       "2  2021-12-31 12:48:29+00:00  \n",
       "3  2021-12-31 12:48:24+00:00  \n",
       "4  2021-12-31 12:48:18+00:00  "
      ]
     },
     "execution_count": 6,
     "metadata": {},
     "output_type": "execute_result"
    }
   ],
   "source": [
    "data_df.head(5)"
   ]
  },
  {
   "cell_type": "code",
   "execution_count": 7,
   "id": "fae9e7a3",
   "metadata": {
    "execution": {
     "iopub.execute_input": "2022-01-23T02:19:44.995435Z",
     "iopub.status.busy": "2022-01-23T02:19:44.994703Z",
     "iopub.status.idle": "2022-01-23T02:19:45.003373Z",
     "shell.execute_reply": "2022-01-23T02:19:45.002844Z",
     "shell.execute_reply.started": "2022-01-23T02:11:00.279321Z"
    },
    "papermill": {
     "duration": 0.131296,
     "end_time": "2022-01-23T02:19:45.003523",
     "exception": false,
     "start_time": "2022-01-23T02:19:44.872227",
     "status": "completed"
    },
    "tags": []
   },
   "outputs": [
    {
     "data": {
      "text/plain": [
       "array(['en', nan, '0', 'tl', 'ca', 'et', 'it', 'pt', 'fr', 'und'],\n",
       "      dtype=object)"
      ]
     },
     "execution_count": 7,
     "metadata": {},
     "output_type": "execute_result"
    }
   ],
   "source": [
    "data_df['tweet_language'].unique()"
   ]
  },
  {
   "cell_type": "code",
   "execution_count": 8,
   "id": "dc84b228",
   "metadata": {
    "execution": {
     "iopub.execute_input": "2022-01-23T02:19:45.057300Z",
     "iopub.status.busy": "2022-01-23T02:19:45.056623Z",
     "iopub.status.idle": "2022-01-23T02:19:46.020896Z",
     "shell.execute_reply": "2022-01-23T02:19:46.020349Z",
     "shell.execute_reply.started": "2022-01-23T02:11:00.340198Z"
    },
    "papermill": {
     "duration": 0.992333,
     "end_time": "2022-01-23T02:19:46.021045",
     "exception": false,
     "start_time": "2022-01-23T02:19:45.028712",
     "status": "completed"
    },
    "tags": []
   },
   "outputs": [],
   "source": [
    "en_data = data_df[data_df['tweet_language'] == 'en'].copy()\n",
    "en_data.dropna(inplace=True)"
   ]
  },
  {
   "cell_type": "markdown",
   "id": "7e320559",
   "metadata": {
    "papermill": {
     "duration": 0.024848,
     "end_time": "2022-01-23T02:19:46.071259",
     "exception": false,
     "start_time": "2022-01-23T02:19:46.046411",
     "status": "completed"
    },
    "tags": []
   },
   "source": [
    "## Sentiment Analysis\n",
    "\n",
    "Here's where I performa the sentiment analysis using the HuggingFace transformers pipeline. This just shows the power of how easy it is to implement natural language processing using the HuggingFace libraries."
   ]
  },
  {
   "cell_type": "code",
   "execution_count": 9,
   "id": "a05dd264",
   "metadata": {
    "execution": {
     "iopub.execute_input": "2022-01-23T02:19:46.124626Z",
     "iopub.status.busy": "2022-01-23T02:19:46.123982Z",
     "iopub.status.idle": "2022-01-23T02:20:23.709558Z",
     "shell.execute_reply": "2022-01-23T02:20:23.710250Z",
     "shell.execute_reply.started": "2022-01-23T02:11:01.010049Z"
    },
    "papermill": {
     "duration": 37.614166,
     "end_time": "2022-01-23T02:20:23.710440",
     "exception": false,
     "start_time": "2022-01-23T02:19:46.096274",
     "status": "completed"
    },
    "tags": []
   },
   "outputs": [
    {
     "name": "stderr",
     "output_type": "stream",
     "text": [
      "No model was supplied, defaulted to distilbert-base-uncased-finetuned-sst-2-english (https://huggingface.co/distilbert-base-uncased-finetuned-sst-2-english)\n"
     ]
    },
    {
     "data": {
      "application/vnd.jupyter.widget-view+json": {
       "model_id": "fe4829ebb426409ca3d4907cd6403189",
       "version_major": 2,
       "version_minor": 0
      },
      "text/plain": [
       "Downloading:   0%|          | 0.00/629 [00:00<?, ?B/s]"
      ]
     },
     "metadata": {},
     "output_type": "display_data"
    },
    {
     "data": {
      "application/vnd.jupyter.widget-view+json": {
       "model_id": "cf9ddda0832f4b948499b8a3682ee0d0",
       "version_major": 2,
       "version_minor": 0
      },
      "text/plain": [
       "Downloading:   0%|          | 0.00/255M [00:00<?, ?B/s]"
      ]
     },
     "metadata": {},
     "output_type": "display_data"
    },
    {
     "data": {
      "application/vnd.jupyter.widget-view+json": {
       "model_id": "94e4940360154ef39f66c40c7a5f9c50",
       "version_major": 2,
       "version_minor": 0
      },
      "text/plain": [
       "Downloading:   0%|          | 0.00/48.0 [00:00<?, ?B/s]"
      ]
     },
     "metadata": {},
     "output_type": "display_data"
    },
    {
     "data": {
      "application/vnd.jupyter.widget-view+json": {
       "model_id": "b5a8b40fb7d34d5e91201c2b30243fd0",
       "version_major": 2,
       "version_minor": 0
      },
      "text/plain": [
       "Downloading:   0%|          | 0.00/226k [00:00<?, ?B/s]"
      ]
     },
     "metadata": {},
     "output_type": "display_data"
    }
   ],
   "source": [
    "from transformers import pipeline\n",
    "classifier = pipeline('sentiment-analysis')"
   ]
  },
  {
   "cell_type": "code",
   "execution_count": 10,
   "id": "8b97908f",
   "metadata": {
    "execution": {
     "iopub.execute_input": "2022-01-23T02:20:23.770623Z",
     "iopub.status.busy": "2022-01-23T02:20:23.769721Z",
     "iopub.status.idle": "2022-01-23T02:20:23.774014Z",
     "shell.execute_reply": "2022-01-23T02:20:23.774596Z",
     "shell.execute_reply.started": "2022-01-23T02:11:10.578599Z"
    },
    "papermill": {
     "duration": 0.036271,
     "end_time": "2022-01-23T02:20:23.774779",
     "exception": false,
     "start_time": "2022-01-23T02:20:23.738508",
     "status": "completed"
    },
    "tags": []
   },
   "outputs": [],
   "source": [
    "def sentiment_analysis(row):\n",
    "    item = row['tweet_content']\n",
    "    output = classifier(item)[0]\n",
    "    if output['label'] == 'NEGATIVE':\n",
    "        row['sentiment'] = 0\n",
    "    else:\n",
    "        row['sentiment'] = 1\n",
    "    \n",
    "    row['score'] = output['score']\n",
    "    \n",
    "    return row"
   ]
  },
  {
   "cell_type": "code",
   "execution_count": 11,
   "id": "f9130e50",
   "metadata": {
    "execution": {
     "iopub.execute_input": "2022-01-23T02:20:23.836968Z",
     "iopub.status.busy": "2022-01-23T02:20:23.836304Z",
     "iopub.status.idle": "2022-01-23T02:21:34.598640Z",
     "shell.execute_reply": "2022-01-23T02:21:34.598057Z",
     "shell.execute_reply.started": "2022-01-23T02:11:10.585814Z"
    },
    "papermill": {
     "duration": 70.796255,
     "end_time": "2022-01-23T02:21:34.598804",
     "exception": false,
     "start_time": "2022-01-23T02:20:23.802549",
     "status": "completed"
    },
    "tags": []
   },
   "outputs": [],
   "source": [
    "random_sample = en_data.sample(1000).copy()\n",
    "classified_df = random_sample.apply(sentiment_analysis, axis=1)"
   ]
  },
  {
   "cell_type": "code",
   "execution_count": 12,
   "id": "a1f2682a",
   "metadata": {
    "execution": {
     "iopub.execute_input": "2022-01-23T02:21:34.657959Z",
     "iopub.status.busy": "2022-01-23T02:21:34.656963Z",
     "iopub.status.idle": "2022-01-23T02:21:34.670411Z",
     "shell.execute_reply": "2022-01-23T02:21:34.671003Z",
     "shell.execute_reply.started": "2022-01-23T02:12:14.541201Z"
    },
    "papermill": {
     "duration": 0.044851,
     "end_time": "2022-01-23T02:21:34.671196",
     "exception": false,
     "start_time": "2022-01-23T02:21:34.626345",
     "status": "completed"
    },
    "tags": []
   },
   "outputs": [
    {
     "data": {
      "text/html": [
       "<div>\n",
       "<style scoped>\n",
       "    .dataframe tbody tr th:only-of-type {\n",
       "        vertical-align: middle;\n",
       "    }\n",
       "\n",
       "    .dataframe tbody tr th {\n",
       "        vertical-align: top;\n",
       "    }\n",
       "\n",
       "    .dataframe thead th {\n",
       "        text-align: right;\n",
       "    }\n",
       "</style>\n",
       "<table border=\"1\" class=\"dataframe\">\n",
       "  <thead>\n",
       "    <tr style=\"text-align: right;\">\n",
       "      <th></th>\n",
       "      <th>username</th>\n",
       "      <th>user_display_name</th>\n",
       "      <th>user_description</th>\n",
       "      <th>tweet_content</th>\n",
       "      <th>tweet_language</th>\n",
       "      <th>tweet_date</th>\n",
       "      <th>sentiment</th>\n",
       "      <th>score</th>\n",
       "    </tr>\n",
       "  </thead>\n",
       "  <tbody>\n",
       "    <tr>\n",
       "      <th>427885</th>\n",
       "      <td>BarryMcAree</td>\n",
       "      <td>Barry McAree 💙</td>\n",
       "      <td>Cons colorectal surgeon Antrim | Laparoscopic&amp;...</td>\n",
       "      <td>@paulfrewDUP @AlanStout19 What is said to the ...</td>\n",
       "      <td>en</td>\n",
       "      <td>2021-11-28 11:33:28+00:00</td>\n",
       "      <td>0</td>\n",
       "      <td>0.992379</td>\n",
       "    </tr>\n",
       "    <tr>\n",
       "      <th>270586</th>\n",
       "      <td>sapphire_wiccan</td>\n",
       "      <td>ᛚᛖᛟ</td>\n",
       "      <td>estudante | 21 anos | geek, gamer e perdido no...</td>\n",
       "      <td>@Im_Just_Gideon @e_dayone @Bolverk15 @BSO She ...</td>\n",
       "      <td>en</td>\n",
       "      <td>2021-12-11 15:10:29+00:00</td>\n",
       "      <td>0</td>\n",
       "      <td>0.996464</td>\n",
       "    </tr>\n",
       "    <tr>\n",
       "      <th>225964</th>\n",
       "      <td>AsianHeraldNews</td>\n",
       "      <td>Asian Herald</td>\n",
       "      <td>Asian Herald, the world’s first online news po...</td>\n",
       "      <td>The U.S. death toll from COVID-19 topped 800,0...</td>\n",
       "      <td>en</td>\n",
       "      <td>2021-12-15 06:21:46+00:00</td>\n",
       "      <td>0</td>\n",
       "      <td>0.998119</td>\n",
       "    </tr>\n",
       "    <tr>\n",
       "      <th>226597</th>\n",
       "      <td>EspnGreenMamba</td>\n",
       "      <td>Ron Morell</td>\n",
       "      <td>#PureBlood\\n#TrumpWon50 \\n#VeteransFirst \\n#Am...</td>\n",
       "      <td>Un-vaccinated people can't die from the Rona v...</td>\n",
       "      <td>en</td>\n",
       "      <td>2021-12-15 04:35:16+00:00</td>\n",
       "      <td>0</td>\n",
       "      <td>0.759931</td>\n",
       "    </tr>\n",
       "    <tr>\n",
       "      <th>403185</th>\n",
       "      <td>yorkspride</td>\n",
       "      <td>National conservative ✝ NO DM's</td>\n",
       "      <td>Love Your Culture~Honour Your Heritage~Respect...</td>\n",
       "      <td>I'm hearing a lot from ex nursing colleagues t...</td>\n",
       "      <td>en</td>\n",
       "      <td>2021-11-30 14:50:25+00:00</td>\n",
       "      <td>0</td>\n",
       "      <td>0.983018</td>\n",
       "    </tr>\n",
       "  </tbody>\n",
       "</table>\n",
       "</div>"
      ],
      "text/plain": [
       "               username                user_display_name  \\\n",
       "427885      BarryMcAree                   Barry McAree 💙   \n",
       "270586  sapphire_wiccan                              ᛚᛖᛟ   \n",
       "225964  AsianHeraldNews                     Asian Herald   \n",
       "226597   EspnGreenMamba                       Ron Morell   \n",
       "403185       yorkspride  National conservative ✝ NO DM's   \n",
       "\n",
       "                                         user_description  \\\n",
       "427885  Cons colorectal surgeon Antrim | Laparoscopic&...   \n",
       "270586  estudante | 21 anos | geek, gamer e perdido no...   \n",
       "225964  Asian Herald, the world’s first online news po...   \n",
       "226597  #PureBlood\\n#TrumpWon50 \\n#VeteransFirst \\n#Am...   \n",
       "403185  Love Your Culture~Honour Your Heritage~Respect...   \n",
       "\n",
       "                                            tweet_content tweet_language  \\\n",
       "427885  @paulfrewDUP @AlanStout19 What is said to the ...             en   \n",
       "270586  @Im_Just_Gideon @e_dayone @Bolverk15 @BSO She ...             en   \n",
       "225964  The U.S. death toll from COVID-19 topped 800,0...             en   \n",
       "226597  Un-vaccinated people can't die from the Rona v...             en   \n",
       "403185  I'm hearing a lot from ex nursing colleagues t...             en   \n",
       "\n",
       "                       tweet_date  sentiment     score  \n",
       "427885  2021-11-28 11:33:28+00:00          0  0.992379  \n",
       "270586  2021-12-11 15:10:29+00:00          0  0.996464  \n",
       "225964  2021-12-15 06:21:46+00:00          0  0.998119  \n",
       "226597  2021-12-15 04:35:16+00:00          0  0.759931  \n",
       "403185  2021-11-30 14:50:25+00:00          0  0.983018  "
      ]
     },
     "execution_count": 12,
     "metadata": {},
     "output_type": "execute_result"
    }
   ],
   "source": [
    "classified_df.head()"
   ]
  },
  {
   "cell_type": "markdown",
   "id": "562e8bc7",
   "metadata": {
    "papermill": {
     "duration": 0.027536,
     "end_time": "2022-01-23T02:21:34.726594",
     "exception": false,
     "start_time": "2022-01-23T02:21:34.699058",
     "status": "completed"
    },
    "tags": []
   },
   "source": [
    "### Drop some columns that are no longer needed"
   ]
  },
  {
   "cell_type": "code",
   "execution_count": 13,
   "id": "cd65f2f3",
   "metadata": {
    "execution": {
     "iopub.execute_input": "2022-01-23T02:21:34.785927Z",
     "iopub.status.busy": "2022-01-23T02:21:34.784957Z",
     "iopub.status.idle": "2022-01-23T02:21:34.801066Z",
     "shell.execute_reply": "2022-01-23T02:21:34.800460Z",
     "shell.execute_reply.started": "2022-01-23T02:12:14.555964Z"
    },
    "papermill": {
     "duration": 0.046834,
     "end_time": "2022-01-23T02:21:34.801246",
     "exception": false,
     "start_time": "2022-01-23T02:21:34.754412",
     "status": "completed"
    },
    "tags": []
   },
   "outputs": [
    {
     "data": {
      "text/html": [
       "<div>\n",
       "<style scoped>\n",
       "    .dataframe tbody tr th:only-of-type {\n",
       "        vertical-align: middle;\n",
       "    }\n",
       "\n",
       "    .dataframe tbody tr th {\n",
       "        vertical-align: top;\n",
       "    }\n",
       "\n",
       "    .dataframe thead th {\n",
       "        text-align: right;\n",
       "    }\n",
       "</style>\n",
       "<table border=\"1\" class=\"dataframe\">\n",
       "  <thead>\n",
       "    <tr style=\"text-align: right;\">\n",
       "      <th></th>\n",
       "      <th>username</th>\n",
       "      <th>tweet_content</th>\n",
       "      <th>tweet_date</th>\n",
       "      <th>sentiment</th>\n",
       "      <th>score</th>\n",
       "    </tr>\n",
       "  </thead>\n",
       "  <tbody>\n",
       "    <tr>\n",
       "      <th>427885</th>\n",
       "      <td>BarryMcAree</td>\n",
       "      <td>@paulfrewDUP @AlanStout19 What is said to the ...</td>\n",
       "      <td>2021-11-28 11:33:28+00:00</td>\n",
       "      <td>0</td>\n",
       "      <td>0.992379</td>\n",
       "    </tr>\n",
       "    <tr>\n",
       "      <th>270586</th>\n",
       "      <td>sapphire_wiccan</td>\n",
       "      <td>@Im_Just_Gideon @e_dayone @Bolverk15 @BSO She ...</td>\n",
       "      <td>2021-12-11 15:10:29+00:00</td>\n",
       "      <td>0</td>\n",
       "      <td>0.996464</td>\n",
       "    </tr>\n",
       "    <tr>\n",
       "      <th>225964</th>\n",
       "      <td>AsianHeraldNews</td>\n",
       "      <td>The U.S. death toll from COVID-19 topped 800,0...</td>\n",
       "      <td>2021-12-15 06:21:46+00:00</td>\n",
       "      <td>0</td>\n",
       "      <td>0.998119</td>\n",
       "    </tr>\n",
       "    <tr>\n",
       "      <th>226597</th>\n",
       "      <td>EspnGreenMamba</td>\n",
       "      <td>Un-vaccinated people can't die from the Rona v...</td>\n",
       "      <td>2021-12-15 04:35:16+00:00</td>\n",
       "      <td>0</td>\n",
       "      <td>0.759931</td>\n",
       "    </tr>\n",
       "    <tr>\n",
       "      <th>403185</th>\n",
       "      <td>yorkspride</td>\n",
       "      <td>I'm hearing a lot from ex nursing colleagues t...</td>\n",
       "      <td>2021-11-30 14:50:25+00:00</td>\n",
       "      <td>0</td>\n",
       "      <td>0.983018</td>\n",
       "    </tr>\n",
       "  </tbody>\n",
       "</table>\n",
       "</div>"
      ],
      "text/plain": [
       "               username                                      tweet_content  \\\n",
       "427885      BarryMcAree  @paulfrewDUP @AlanStout19 What is said to the ...   \n",
       "270586  sapphire_wiccan  @Im_Just_Gideon @e_dayone @Bolverk15 @BSO She ...   \n",
       "225964  AsianHeraldNews  The U.S. death toll from COVID-19 topped 800,0...   \n",
       "226597   EspnGreenMamba  Un-vaccinated people can't die from the Rona v...   \n",
       "403185       yorkspride  I'm hearing a lot from ex nursing colleagues t...   \n",
       "\n",
       "                       tweet_date  sentiment     score  \n",
       "427885  2021-11-28 11:33:28+00:00          0  0.992379  \n",
       "270586  2021-12-11 15:10:29+00:00          0  0.996464  \n",
       "225964  2021-12-15 06:21:46+00:00          0  0.998119  \n",
       "226597  2021-12-15 04:35:16+00:00          0  0.759931  \n",
       "403185  2021-11-30 14:50:25+00:00          0  0.983018  "
      ]
     },
     "execution_count": 13,
     "metadata": {},
     "output_type": "execute_result"
    }
   ],
   "source": [
    "classified_df.drop(columns=['user_display_name', 'user_description', 'tweet_language'], inplace=True)\n",
    "classified_df.head()"
   ]
  },
  {
   "cell_type": "markdown",
   "id": "8f9ec652",
   "metadata": {
    "papermill": {
     "duration": 0.02779,
     "end_time": "2022-01-23T02:21:34.857335",
     "exception": false,
     "start_time": "2022-01-23T02:21:34.829545",
     "status": "completed"
    },
    "tags": []
   },
   "source": [
    "## Visualization\n",
    "\n",
    "Now time to start looking at the distribution of positive to negative tweets and their scores. Going forward, 0 will represent the negative tweets and 1 will represent the positive tweet. "
   ]
  },
  {
   "cell_type": "code",
   "execution_count": 14,
   "id": "90bde32b",
   "metadata": {
    "execution": {
     "iopub.execute_input": "2022-01-23T02:21:34.921471Z",
     "iopub.status.busy": "2022-01-23T02:21:34.916694Z",
     "iopub.status.idle": "2022-01-23T02:21:35.133066Z",
     "shell.execute_reply": "2022-01-23T02:21:35.132237Z",
     "shell.execute_reply.started": "2022-01-23T02:12:14.579587Z"
    },
    "papermill": {
     "duration": 0.247728,
     "end_time": "2022-01-23T02:21:35.133248",
     "exception": false,
     "start_time": "2022-01-23T02:21:34.885520",
     "status": "completed"
    },
    "tags": []
   },
   "outputs": [
    {
     "data": {
      "text/plain": [
       "<AxesSubplot:title={'center':'Positive vs Negative Tweets'}>"
      ]
     },
     "execution_count": 14,
     "metadata": {},
     "output_type": "execute_result"
    },
    {
     "data": {
      "image/png": "[encoded data removed]",
      "text/plain": [
       "<Figure size 432x288 with 1 Axes>"
      ]
     },
     "metadata": {
      "needs_background": "light"
     },
     "output_type": "display_data"
    }
   ],
   "source": [
    "classified_df['sentiment'].value_counts().plot(kind='bar', title='Positive vs Negative Tweets')"
   ]
  },
  {
   "cell_type": "markdown",
   "id": "bbcd24ac",
   "metadata": {
    "papermill": {
     "duration": 0.028765,
     "end_time": "2022-01-23T02:21:35.191806",
     "exception": false,
     "start_time": "2022-01-23T02:21:35.163041",
     "status": "completed"
    },
    "tags": []
   },
   "source": [
    "Just looking at this first chart it looks like there is a 4 to 1 ratio of negative tweets to positive tweets.\n",
    "\n",
    "\n",
    "Currently the dates are saved as strings within the data set. Converting them to dates make them easier to aggregate bt and manipulate. On some days there were no positive or negative tweets in this dataset, so there are some gaps in the generated line graph."
   ]
  },
  {
   "cell_type": "code",
   "execution_count": 15,
   "id": "67836721",
   "metadata": {
    "execution": {
     "iopub.execute_input": "2022-01-23T02:21:35.256515Z",
     "iopub.status.busy": "2022-01-23T02:21:35.255836Z",
     "iopub.status.idle": "2022-01-23T02:21:35.258788Z",
     "shell.execute_reply": "2022-01-23T02:21:35.258280Z",
     "shell.execute_reply.started": "2022-01-23T02:12:14.766164Z"
    },
    "papermill": {
     "duration": 0.037106,
     "end_time": "2022-01-23T02:21:35.258917",
     "exception": false,
     "start_time": "2022-01-23T02:21:35.221811",
     "status": "completed"
    },
    "tags": []
   },
   "outputs": [],
   "source": [
    "def clean_dates(row):\n",
    "    row['tweet_date'] = row['tweet_date'].date()\n",
    "    return row"
   ]
  },
  {
   "cell_type": "code",
   "execution_count": 16,
   "id": "b4658f2c",
   "metadata": {
    "execution": {
     "iopub.execute_input": "2022-01-23T02:21:35.322009Z",
     "iopub.status.busy": "2022-01-23T02:21:35.320991Z",
     "iopub.status.idle": "2022-01-23T02:21:35.690761Z",
     "shell.execute_reply": "2022-01-23T02:21:35.690236Z",
     "shell.execute_reply.started": "2022-01-23T02:12:14.772232Z"
    },
    "papermill": {
     "duration": 0.402568,
     "end_time": "2022-01-23T02:21:35.690897",
     "exception": false,
     "start_time": "2022-01-23T02:21:35.288329",
     "status": "completed"
    },
    "tags": []
   },
   "outputs": [
    {
     "data": {
      "text/plain": [
       "<AxesSubplot:title={'center':'Positive vs Negative tweets by Date'}, xlabel='Date', ylabel='Count'>"
      ]
     },
     "execution_count": 16,
     "metadata": {},
     "output_type": "execute_result"
    },
    {
     "data": {
      "image/png": "[encoded data removed]",
      "text/plain": [
       "<Figure size 432x288 with 1 Axes>"
      ]
     },
     "metadata": {
      "needs_background": "light"
     },
     "output_type": "display_data"
    }
   ],
   "source": [
    "classified_df['tweet_date'] = pd.to_datetime(classified_df['tweet_date'])\n",
    "classified_df = classified_df.apply(clean_dates, axis=1)\n",
    "grouped_df = classified_df.groupby(['tweet_date', 'sentiment']).count().drop(columns=['username', 'score'])\n",
    "grouped_df = grouped_df.reset_index()\n",
    "grouped_df = grouped_df.pivot(columns='sentiment', values='tweet_content', index='tweet_date')\n",
    "grouped_df.plot.line(title='Positive vs Negative tweets by Date', xlabel='Date', ylabel='Count')"
   ]
  },
  {
   "cell_type": "code",
   "execution_count": 17,
   "id": "aec327c1",
   "metadata": {
    "execution": {
     "iopub.execute_input": "2022-01-23T02:21:35.757429Z",
     "iopub.status.busy": "2022-01-23T02:21:35.756688Z",
     "iopub.status.idle": "2022-01-23T02:21:35.994401Z",
     "shell.execute_reply": "2022-01-23T02:21:35.993860Z",
     "shell.execute_reply.started": "2022-01-23T02:12:15.108793Z"
    },
    "papermill": {
     "duration": 0.272032,
     "end_time": "2022-01-23T02:21:35.994540",
     "exception": false,
     "start_time": "2022-01-23T02:21:35.722508",
     "status": "completed"
    },
    "tags": []
   },
   "outputs": [
    {
     "data": {
      "text/plain": [
       "<AxesSubplot:title={'center':'Score Distribution of Negative Tweets'}, ylabel='Frequency'>"
      ]
     },
     "execution_count": 17,
     "metadata": {},
     "output_type": "execute_result"
    },
    {
     "data": {
      "image/png": "[encoded data removed]",
      "text/plain": [
       "<Figure size 432x288 with 1 Axes>"
      ]
     },
     "metadata": {
      "needs_background": "light"
     },
     "output_type": "display_data"
    }
   ],
   "source": [
    "classified_df[classified_df['sentiment'] == 0]['score'].plot(kind='hist', title='Score Distribution of Negative Tweets')"
   ]
  },
  {
   "cell_type": "code",
   "execution_count": 18,
   "id": "0c601f0d",
   "metadata": {
    "execution": {
     "iopub.execute_input": "2022-01-23T02:21:36.062385Z",
     "iopub.status.busy": "2022-01-23T02:21:36.061672Z",
     "iopub.status.idle": "2022-01-23T02:21:36.312293Z",
     "shell.execute_reply": "2022-01-23T02:21:36.312789Z",
     "shell.execute_reply.started": "2022-01-23T02:12:15.333202Z"
    },
    "papermill": {
     "duration": 0.285983,
     "end_time": "2022-01-23T02:21:36.312958",
     "exception": false,
     "start_time": "2022-01-23T02:21:36.026975",
     "status": "completed"
    },
    "tags": []
   },
   "outputs": [
    {
     "data": {
      "text/plain": [
       "<AxesSubplot:title={'center':'Score Distribution of Negative Tweets for Scores >= 0.8'}, ylabel='Frequency'>"
      ]
     },
     "execution_count": 18,
     "metadata": {},
     "output_type": "execute_result"
    },
    {
     "data": {
      "image/png": "[encoded data removed]",
      "text/plain": [
       "<Figure size 432x288 with 1 Axes>"
      ]
     },
     "metadata": {
      "needs_background": "light"
     },
     "output_type": "display_data"
    }
   ],
   "source": [
    "classified_df[(classified_df['sentiment'] == 0) & (classified_df['score'] >= 0.8)]['score'].plot(kind='hist', title='Score Distribution of Negative Tweets for Scores >= 0.8')"
   ]
  },
  {
   "cell_type": "code",
   "execution_count": 19,
   "id": "e16e3368",
   "metadata": {
    "execution": {
     "iopub.execute_input": "2022-01-23T02:21:36.384205Z",
     "iopub.status.busy": "2022-01-23T02:21:36.383234Z",
     "iopub.status.idle": "2022-01-23T02:21:36.620823Z",
     "shell.execute_reply": "2022-01-23T02:21:36.620316Z",
     "shell.execute_reply.started": "2022-01-23T02:12:15.568579Z"
    },
    "papermill": {
     "duration": 0.274132,
     "end_time": "2022-01-23T02:21:36.620968",
     "exception": false,
     "start_time": "2022-01-23T02:21:36.346836",
     "status": "completed"
    },
    "tags": []
   },
   "outputs": [
    {
     "data": {
      "text/plain": [
       "<AxesSubplot:title={'center':'Score Distribution of Positive Tweets'}, ylabel='Frequency'>"
      ]
     },
     "execution_count": 19,
     "metadata": {},
     "output_type": "execute_result"
    },
    {
     "data": {
      "image/png": "[encoded data removed]",
      "text/plain": [
       "<Figure size 432x288 with 1 Axes>"
      ]
     },
     "metadata": {
      "needs_background": "light"
     },
     "output_type": "display_data"
    }
   ],
   "source": [
    "classified_df[classified_df['sentiment'] == 1]['score'].plot(kind='hist', title='Score Distribution of Positive Tweets')"
   ]
  },
  {
   "cell_type": "code",
   "execution_count": 20,
   "id": "c3986461",
   "metadata": {
    "execution": {
     "iopub.execute_input": "2022-01-23T02:21:36.701097Z",
     "iopub.status.busy": "2022-01-23T02:21:36.700105Z",
     "iopub.status.idle": "2022-01-23T02:21:36.938276Z",
     "shell.execute_reply": "2022-01-23T02:21:36.938745Z",
     "shell.execute_reply.started": "2022-01-23T02:12:15.784379Z"
    },
    "papermill": {
     "duration": 0.283279,
     "end_time": "2022-01-23T02:21:36.938926",
     "exception": false,
     "start_time": "2022-01-23T02:21:36.655647",
     "status": "completed"
    },
    "tags": []
   },
   "outputs": [
    {
     "data": {
      "text/plain": [
       "<AxesSubplot:title={'center':'Score Distribution of Positive Tweets for Scores >= 0.7'}, ylabel='Frequency'>"
      ]
     },
     "execution_count": 20,
     "metadata": {},
     "output_type": "execute_result"
    },
    {
     "data": {
      "image/png": "[encoded data removed]",
      "text/plain": [
       "<Figure size 432x288 with 1 Axes>"
      ]
     },
     "metadata": {
      "needs_background": "light"
     },
     "output_type": "display_data"
    }
   ],
   "source": [
    "classified_df[(classified_df['sentiment'] == 1) & (classified_df['score'] >= 0.7)]['score'].plot(kind='hist', title='Score Distribution of Positive Tweets for Scores >= 0.7')"
   ]
  },
  {
   "cell_type": "code",
   "execution_count": 21,
   "id": "1f975617",
   "metadata": {
    "execution": {
     "iopub.execute_input": "2022-01-23T02:21:37.014860Z",
     "iopub.status.busy": "2022-01-23T02:21:37.013843Z",
     "iopub.status.idle": "2022-01-23T02:21:37.217667Z",
     "shell.execute_reply": "2022-01-23T02:21:37.218163Z",
     "shell.execute_reply.started": "2022-01-23T02:12:16.005685Z"
    },
    "papermill": {
     "duration": 0.243506,
     "end_time": "2022-01-23T02:21:37.218364",
     "exception": false,
     "start_time": "2022-01-23T02:21:36.974858",
     "status": "completed"
    },
    "tags": []
   },
   "outputs": [
    {
     "data": {
      "text/plain": [
       "<AxesSubplot:title={'center':'Average Score for Positive and Negative Tweets'}, xlabel='sentiment'>"
      ]
     },
     "execution_count": 21,
     "metadata": {},
     "output_type": "execute_result"
    },
    {
     "data": {
      "image/png": "[encoded data removed]",
      "text/plain": [
       "<Figure size 432x288 with 1 Axes>"
      ]
     },
     "metadata": {
      "needs_background": "light"
     },
     "output_type": "display_data"
    }
   ],
   "source": [
    "classified_df.drop(columns=['tweet_content', 'tweet_date', 'username']).groupby('sentiment').mean().plot(kind='bar', title='Average Score for Positive and Negative Tweets')"
   ]
  },
  {
   "cell_type": "markdown",
   "id": "e5f7d0aa",
   "metadata": {
    "papermill": {
     "duration": 0.039708,
     "end_time": "2022-01-23T02:21:37.294642",
     "exception": false,
     "start_time": "2022-01-23T02:21:37.254934",
     "status": "completed"
    },
    "tags": []
   },
   "source": [
    "Adds a column for the length of the tweet to see if that has an impact on the percieved sentiment."
   ]
  },
  {
   "cell_type": "code",
   "execution_count": 22,
   "id": "cbd66c60",
   "metadata": {
    "execution": {
     "iopub.execute_input": "2022-01-23T02:21:37.373728Z",
     "iopub.status.busy": "2022-01-23T02:21:37.372910Z",
     "iopub.status.idle": "2022-01-23T02:21:37.376188Z",
     "shell.execute_reply": "2022-01-23T02:21:37.375560Z",
     "shell.execute_reply.started": "2022-01-23T02:12:16.191719Z"
    },
    "papermill": {
     "duration": 0.045084,
     "end_time": "2022-01-23T02:21:37.376336",
     "exception": false,
     "start_time": "2022-01-23T02:21:37.331252",
     "status": "completed"
    },
    "tags": []
   },
   "outputs": [],
   "source": [
    "def get_tweet_len(row):\n",
    "    row['tweet_len'] = len(row['tweet_content'])\n",
    "    return row"
   ]
  },
  {
   "cell_type": "code",
   "execution_count": 23,
   "id": "6bba6145",
   "metadata": {
    "execution": {
     "iopub.execute_input": "2022-01-23T02:21:37.516899Z",
     "iopub.status.busy": "2022-01-23T02:21:37.480562Z",
     "iopub.status.idle": "2022-01-23T02:21:38.124909Z",
     "shell.execute_reply": "2022-01-23T02:21:38.124341Z",
     "shell.execute_reply.started": "2022-01-23T02:12:16.196785Z"
    },
    "papermill": {
     "duration": 0.711966,
     "end_time": "2022-01-23T02:21:38.125049",
     "exception": false,
     "start_time": "2022-01-23T02:21:37.413083",
     "status": "completed"
    },
    "tags": []
   },
   "outputs": [
    {
     "data": {
      "text/html": [
       "<div>\n",
       "<style scoped>\n",
       "    .dataframe tbody tr th:only-of-type {\n",
       "        vertical-align: middle;\n",
       "    }\n",
       "\n",
       "    .dataframe tbody tr th {\n",
       "        vertical-align: top;\n",
       "    }\n",
       "\n",
       "    .dataframe thead th {\n",
       "        text-align: right;\n",
       "    }\n",
       "</style>\n",
       "<table border=\"1\" class=\"dataframe\">\n",
       "  <thead>\n",
       "    <tr style=\"text-align: right;\">\n",
       "      <th></th>\n",
       "      <th>username</th>\n",
       "      <th>tweet_content</th>\n",
       "      <th>tweet_date</th>\n",
       "      <th>sentiment</th>\n",
       "      <th>score</th>\n",
       "      <th>tweet_len</th>\n",
       "    </tr>\n",
       "  </thead>\n",
       "  <tbody>\n",
       "    <tr>\n",
       "      <th>427885</th>\n",
       "      <td>BarryMcAree</td>\n",
       "      <td>@paulfrewDUP @AlanStout19 What is said to the ...</td>\n",
       "      <td>2021-11-28</td>\n",
       "      <td>0</td>\n",
       "      <td>0.992379</td>\n",
       "      <td>337</td>\n",
       "    </tr>\n",
       "    <tr>\n",
       "      <th>270586</th>\n",
       "      <td>sapphire_wiccan</td>\n",
       "      <td>@Im_Just_Gideon @e_dayone @Bolverk15 @BSO She ...</td>\n",
       "      <td>2021-12-11</td>\n",
       "      <td>0</td>\n",
       "      <td>0.996464</td>\n",
       "      <td>164</td>\n",
       "    </tr>\n",
       "    <tr>\n",
       "      <th>225964</th>\n",
       "      <td>AsianHeraldNews</td>\n",
       "      <td>The U.S. death toll from COVID-19 topped 800,0...</td>\n",
       "      <td>2021-12-15</td>\n",
       "      <td>0</td>\n",
       "      <td>0.998119</td>\n",
       "      <td>298</td>\n",
       "    </tr>\n",
       "    <tr>\n",
       "      <th>226597</th>\n",
       "      <td>EspnGreenMamba</td>\n",
       "      <td>Un-vaccinated people can't die from the Rona v...</td>\n",
       "      <td>2021-12-15</td>\n",
       "      <td>0</td>\n",
       "      <td>0.759931</td>\n",
       "      <td>129</td>\n",
       "    </tr>\n",
       "    <tr>\n",
       "      <th>403185</th>\n",
       "      <td>yorkspride</td>\n",
       "      <td>I'm hearing a lot from ex nursing colleagues t...</td>\n",
       "      <td>2021-11-30</td>\n",
       "      <td>0</td>\n",
       "      <td>0.983018</td>\n",
       "      <td>166</td>\n",
       "    </tr>\n",
       "  </tbody>\n",
       "</table>\n",
       "</div>"
      ],
      "text/plain": [
       "               username                                      tweet_content  \\\n",
       "427885      BarryMcAree  @paulfrewDUP @AlanStout19 What is said to the ...   \n",
       "270586  sapphire_wiccan  @Im_Just_Gideon @e_dayone @Bolverk15 @BSO She ...   \n",
       "225964  AsianHeraldNews  The U.S. death toll from COVID-19 topped 800,0...   \n",
       "226597   EspnGreenMamba  Un-vaccinated people can't die from the Rona v...   \n",
       "403185       yorkspride  I'm hearing a lot from ex nursing colleagues t...   \n",
       "\n",
       "        tweet_date  sentiment     score  tweet_len  \n",
       "427885  2021-11-28          0  0.992379        337  \n",
       "270586  2021-12-11          0  0.996464        164  \n",
       "225964  2021-12-15          0  0.998119        298  \n",
       "226597  2021-12-15          0  0.759931        129  \n",
       "403185  2021-11-30          0  0.983018        166  "
      ]
     },
     "execution_count": 23,
     "metadata": {},
     "output_type": "execute_result"
    }
   ],
   "source": [
    "classified_df = classified_df.apply(get_tweet_len, axis=1)\n",
    "classified_df.head(5)"
   ]
  },
  {
   "cell_type": "code",
   "execution_count": 24,
   "id": "9c6732aa",
   "metadata": {
    "execution": {
     "iopub.execute_input": "2022-01-23T02:21:38.203322Z",
     "iopub.status.busy": "2022-01-23T02:21:38.202619Z",
     "iopub.status.idle": "2022-01-23T02:21:38.413047Z",
     "shell.execute_reply": "2022-01-23T02:21:38.413548Z",
     "shell.execute_reply.started": "2022-01-23T02:12:16.783064Z"
    },
    "papermill": {
     "duration": 0.251249,
     "end_time": "2022-01-23T02:21:38.413742",
     "exception": false,
     "start_time": "2022-01-23T02:21:38.162493",
     "status": "completed"
    },
    "tags": []
   },
   "outputs": [
    {
     "data": {
      "text/plain": [
       "<AxesSubplot:title={'center':'Average Tweet Length for Positive and Negative Tweets'}, xlabel='sentiment'>"
      ]
     },
     "execution_count": 24,
     "metadata": {},
     "output_type": "execute_result"
    },
    {
     "data": {
      "image/png": "[encoded data removed]",
      "text/plain": [
       "<Figure size 432x288 with 1 Axes>"
      ]
     },
     "metadata": {
      "needs_background": "light"
     },
     "output_type": "display_data"
    }
   ],
   "source": [
    "classified_df.drop(columns=['tweet_content', 'tweet_date', 'score', 'username']).groupby('sentiment').mean().plot(kind='bar', title='Average Tweet Length for Positive and Negative Tweets')"
   ]
  }
 ],
 "metadata": {
  "kernelspec": {
   "display_name": "Python 3",
   "language": "python",
   "name": "python3"
  },
  "language_info": {
   "codemirror_mode": {
    "name": "ipython",
    "version": 3
   },
   "file_extension": ".py",
   "mimetype": "text/x-python",
   "name": "python",
   "nbconvert_exporter": "python",
   "pygments_lexer": "ipython3",
   "version": "3.7.12"
  },
  "papermill": {
   "default_parameters": {},
   "duration": 142.696951,
   "end_time": "2022-01-23T02:21:41.365046",
   "environment_variables": {},
   "exception": null,
   "input_path": "__notebook__.ipynb",
   "output_path": "__notebook__.ipynb",
   "parameters": {},
   "start_time": "2022-01-23T02:19:18.668095",
   "version": "2.3.3"
  },
  "widgets": {
   "application/vnd.jupyter.widget-state+json": {
    "state": {
     "053286c0d85b44dfa0f3738d25a5f370": {
      "model_module": "@jupyter-widgets/controls",
      "model_module_version": "1.5.0",
      "model_name": "FloatProgressModel",
      "state": {
       "_dom_classes": [],
       "_model_module": "@jupyter-widgets/controls",
       "_model_module_version": "1.5.0",
       "_model_name": "FloatProgressModel",
       "_view_count": null,
       "_view_module": "@jupyter-widgets/controls",
       "_view_module_version": "1.5.0",
       "_view_name": "ProgressView",
       "bar_style": "success",
       "description": "",
       "description_tooltip": null,
       "layout": "IPY_MODEL_2e1723a0b7b64c53b9f4053d45c85deb",
       "max": 231508.0,
       "min": 0.0,
       "orientation": "horizontal",
       "style": "IPY_MODEL_57642b1424854c719f94296c31de3581",
       "value": 231508.0
      }
     },
     "127d468f7f074f4ea883114021701851": {
      "model_module": "@jupyter-widgets/controls",
      "model_module_version": "1.5.0",
      "model_name": "FloatProgressModel",
      "state": {
       "_dom_classes": [],
       "_model_module": "@jupyter-widgets/controls",
       "_model_module_version": "1.5.0",
       "_model_name": "FloatProgressModel",
       "_view_count": null,
       "_view_module": "@jupyter-widgets/controls",
       "_view_module_version": "1.5.0",
       "_view_name": "ProgressView",
       "bar_style": "success",
       "description": "",
       "description_tooltip": null,
       "layout": "IPY_MODEL_8b89a9d9a71841d4ba9e7a49a16c9644",
       "max": 48.0,
       "min": 0.0,
       "orientation": "horizontal",
       "style": "IPY_MODEL_21e5b74328174d129baba129388bff48",
       "value": 48.0
      }
     },
     "1d69c78af5924cf7acdd837de58b8eeb": {
      "model_module": "@jupyter-widgets/controls",
      "model_module_version": "1.5.0",
      "model_name": "HTMLModel",
      "state": {
       "_dom_classes": [],
       "_model_module": "@jupyter-widgets/controls",
       "_model_module_version": "1.5.0",
       "_model_name": "HTMLModel",
       "_view_count": null,
       "_view_module": "@jupyter-widgets/controls",
       "_view_module_version": "1.5.0",
       "_view_name": "HTMLView",
       "description": "",
       "description_tooltip": null,
       "layout": "IPY_MODEL_c4237b5d4b7243998d79bc54ebf7f893",
       "placeholder": "​",
       "style": "IPY_MODEL_44478910bc0146229953649ffee22820",
       "value": "Downloading: 100%"
      }
     },
     "2077fdff272745f9a537bec6b8e9bc58": {
      "model_module": "@jupyter-widgets/base",
      "model_module_version": "1.2.0",
      "model_name": "LayoutModel",
      "state": {
       "_model_module": "@jupyter-widgets/base",
       "_model_module_version": "1.2.0",
       "_model_name": "LayoutModel",
       "_view_count": null,
       "_view_module": "@jupyter-widgets/base",
       "_view_module_version": "1.2.0",
       "_view_name": "LayoutView",
       "align_content": null,
       "align_items": null,
       "align_self": null,
       "border": null,
       "bottom": null,
       "display": null,
       "flex": null,
       "flex_flow": null,
       "grid_area": null,
       "grid_auto_columns": null,
       "grid_auto_flow": null,
       "grid_auto_rows": null,
       "grid_column": null,
       "grid_gap": null,
       "grid_row": null,
       "grid_template_areas": null,
       "grid_template_columns": null,
       "grid_template_rows": null,
       "height": null,
       "justify_content": null,
       "justify_items": null,
       "left": null,
       "margin": null,
       "max_height": null,
       "max_width": null,
       "min_height": null,
       "min_width": null,
       "object_fit": null,
       "object_position": null,
       "order": null,
       "overflow": null,
       "overflow_x": null,
       "overflow_y": null,
       "padding": null,
       "right": null,
       "top": null,
       "visibility": null,
       "width": null
      }
     },
     "21e5b74328174d129baba129388bff48": {
      "model_module": "@jupyter-widgets/controls",
      "model_module_version": "1.5.0",
      "model_name": "ProgressStyleModel",
      "state": {
       "_model_module": "@jupyter-widgets/controls",
       "_model_module_version": "1.5.0",
       "_model_name": "ProgressStyleModel",
       "_view_count": null,
       "_view_module": "@jupyter-widgets/base",
       "_view_module_version": "1.2.0",
       "_view_name": "StyleView",
       "bar_color": null,
       "description_width": ""
      }
     },
     "29fe6a854fbd4073a8fd12d3ac14cac3": {
      "model_module": "@jupyter-widgets/base",
      "model_module_version": "1.2.0",
      "model_name": "LayoutModel",
      "state": {
       "_model_module": "@jupyter-widgets/base",
       "_model_module_version": "1.2.0",
       "_model_name": "LayoutModel",
       "_view_count": null,
       "_view_module": "@jupyter-widgets/base",
       "_view_module_version": "1.2.0",
       "_view_name": "LayoutView",
       "align_content": null,
       "align_items": null,
       "align_self": null,
       "border": null,
       "bottom": null,
       "display": null,
       "flex": null,
       "flex_flow": null,
       "grid_area": null,
       "grid_auto_columns": null,
       "grid_auto_flow": null,
       "grid_auto_rows": null,
       "grid_column": null,
       "grid_gap": null,
       "grid_row": null,
       "grid_template_areas": null,
       "grid_template_columns": null,
       "grid_template_rows": null,
       "height": null,
       "justify_content": null,
       "justify_items": null,
       "left": null,
       "margin": null,
       "max_height": null,
       "max_width": null,
       "min_height": null,
       "min_width": null,
       "object_fit": null,
       "object_position": null,
       "order": null,
       "overflow": null,
       "overflow_x": null,
       "overflow_y": null,
       "padding": null,
       "right": null,
       "top": null,
       "visibility": null,
       "width": null
      }
     },
     "2c128358330d457c96863c1c3a0cec8e": {
      "model_module": "@jupyter-widgets/base",
      "model_module_version": "1.2.0",
      "model_name": "LayoutModel",
      "state": {
       "_model_module": "@jupyter-widgets/base",
       "_model_module_version": "1.2.0",
       "_model_name": "LayoutModel",
       "_view_count": null,
       "_view_module": "@jupyter-widgets/base",
       "_view_module_version": "1.2.0",
       "_view_name": "LayoutView",
       "align_content": null,
       "align_items": null,
       "align_self": null,
       "border": null,
       "bottom": null,
       "display": null,
       "flex": null,
       "flex_flow": null,
       "grid_area": null,
       "grid_auto_columns": null,
       "grid_auto_flow": null,
       "grid_auto_rows": null,
       "grid_column": null,
       "grid_gap": null,
       "grid_row": null,
       "grid_template_areas": null,
       "grid_template_columns": null,
       "grid_template_rows": null,
       "height": null,
       "justify_content": null,
       "justify_items": null,
       "left": null,
       "margin": null,
       "max_height": null,
       "max_width": null,
       "min_height": null,
       "min_width": null,
       "object_fit": null,
       "object_position": null,
       "order": null,
       "overflow": null,
       "overflow_x": null,
       "overflow_y": null,
       "padding": null,
       "right": null,
       "top": null,
       "visibility": null,
       "width": null
      }
     },
     "2e1723a0b7b64c53b9f4053d45c85deb": {
      "model_module": "@jupyter-widgets/base",
      "model_module_version": "1.2.0",
      "model_name": "LayoutModel",
      "state": {
       "_model_module": "@jupyter-widgets/base",
       "_model_module_version": "1.2.0",
       "_model_name": "LayoutModel",
       "_view_count": null,
       "_view_module": "@jupyter-widgets/base",
       "_view_module_version": "1.2.0",
       "_view_name": "LayoutView",
       "align_content": null,
       "align_items": null,
       "align_self": null,
       "border": null,
       "bottom": null,
       "display": null,
       "flex": null,
       "flex_flow": null,
       "grid_area": null,
       "grid_auto_columns": null,
       "grid_auto_flow": null,
       "grid_auto_rows": null,
       "grid_column": null,
       "grid_gap": null,
       "grid_row": null,
       "grid_template_areas": null,
       "grid_template_columns": null,
       "grid_template_rows": null,
       "height": null,
       "justify_content": null,
       "justify_items": null,
       "left": null,
       "margin": null,
       "max_height": null,
       "max_width": null,
       "min_height": null,
       "min_width": null,
       "object_fit": null,
       "object_position": null,
       "order": null,
       "overflow": null,
       "overflow_x": null,
       "overflow_y": null,
       "padding": null,
       "right": null,
       "top": null,
       "visibility": null,
       "width": null
      }
     },
     "2e2e413c872c458fa2080a76e537e365": {
      "model_module": "@jupyter-widgets/base",
      "model_module_version": "1.2.0",
      "model_name": "LayoutModel",
      "state": {
       "_model_module": "@jupyter-widgets/base",
       "_model_module_version": "1.2.0",
       "_model_name": "LayoutModel",
       "_view_count": null,
       "_view_module": "@jupyter-widgets/base",
       "_view_module_version": "1.2.0",
       "_view_name": "LayoutView",
       "align_content": null,
       "align_items": null,
       "align_self": null,
       "border": null,
       "bottom": null,
       "display": null,
       "flex": null,
       "flex_flow": null,
       "grid_area": null,
       "grid_auto_columns": null,
       "grid_auto_flow": null,
       "grid_auto_rows": null,
       "grid_column": null,
       "grid_gap": null,
       "grid_row": null,
       "grid_template_areas": null,
       "grid_template_columns": null,
       "grid_template_rows": null,
       "height": null,
       "justify_content": null,
       "justify_items": null,
       "left": null,
       "margin": null,
       "max_height": null,
       "max_width": null,
       "min_height": null,
       "min_width": null,
       "object_fit": null,
       "object_position": null,
       "order": null,
       "overflow": null,
       "overflow_x": null,
       "overflow_y": null,
       "padding": null,
       "right": null,
       "top": null,
       "visibility": null,
       "width": null
      }
     },
     "31dbe12efa2d4002bdcf0fb70feeb03b": {
      "model_module": "@jupyter-widgets/controls",
      "model_module_version": "1.5.0",
      "model_name": "HTMLModel",
      "state": {
       "_dom_classes": [],
       "_model_module": "@jupyter-widgets/controls",
       "_model_module_version": "1.5.0",
       "_model_name": "HTMLModel",
       "_view_count": null,
       "_view_module": "@jupyter-widgets/controls",
       "_view_module_version": "1.5.0",
       "_view_name": "HTMLView",
       "description": "",
       "description_tooltip": null,
       "layout": "IPY_MODEL_8ca07908d2bb40218114a9fffe4d7a00",
       "placeholder": "​",
       "style": "IPY_MODEL_71e2df07d5f740a398fae046db506b12",
       "value": " 48.0/48.0 [00:00&lt;00:00, 1.14kB/s]"
      }
     },
     "37b01e4eeb1749aa99af331264ef9ef3": {
      "model_module": "@jupyter-widgets/base",
      "model_module_version": "1.2.0",
      "model_name": "LayoutModel",
      "state": {
       "_model_module": "@jupyter-widgets/base",
       "_model_module_version": "1.2.0",
       "_model_name": "LayoutModel",
       "_view_count": null,
       "_view_module": "@jupyter-widgets/base",
       "_view_module_version": "1.2.0",
       "_view_name": "LayoutView",
       "align_content": null,
       "align_items": null,
       "align_self": null,
       "border": null,
       "bottom": null,
       "display": null,
       "flex": null,
       "flex_flow": null,
       "grid_area": null,
       "grid_auto_columns": null,
       "grid_auto_flow": null,
       "grid_auto_rows": null,
       "grid_column": null,
       "grid_gap": null,
       "grid_row": null,
       "grid_template_areas": null,
       "grid_template_columns": null,
       "grid_template_rows": null,
       "height": null,
       "justify_content": null,
       "justify_items": null,
       "left": null,
       "margin": null,
       "max_height": null,
       "max_width": null,
       "min_height": null,
       "min_width": null,
       "object_fit": null,
       "object_position": null,
       "order": null,
       "overflow": null,
       "overflow_x": null,
       "overflow_y": null,
       "padding": null,
       "right": null,
       "top": null,
       "visibility": null,
       "width": null
      }
     },
     "3c4ec2a9cb9b4ee29ac3d2604c341c0c": {
      "model_module": "@jupyter-widgets/base",
      "model_module_version": "1.2.0",
      "model_name": "LayoutModel",
      "state": {
       "_model_module": "@jupyter-widgets/base",
       "_model_module_version": "1.2.0",
       "_model_name": "LayoutModel",
       "_view_count": null,
       "_view_module": "@jupyter-widgets/base",
       "_view_module_version": "1.2.0",
       "_view_name": "LayoutView",
       "align_content": null,
       "align_items": null,
       "align_self": null,
       "border": null,
       "bottom": null,
       "display": null,
       "flex": null,
       "flex_flow": null,
       "grid_area": null,
       "grid_auto_columns": null,
       "grid_auto_flow": null,
       "grid_auto_rows": null,
       "grid_column": null,
       "grid_gap": null,
       "grid_row": null,
       "grid_template_areas": null,
       "grid_template_columns": null,
       "grid_template_rows": null,
       "height": null,
       "justify_content": null,
       "justify_items": null,
       "left": null,
       "margin": null,
       "max_height": null,
       "max_width": null,
       "min_height": null,
       "min_width": null,
       "object_fit": null,
       "object_position": null,
       "order": null,
       "overflow": null,
       "overflow_x": null,
       "overflow_y": null,
       "padding": null,
       "right": null,
       "top": null,
       "visibility": null,
       "width": null
      }
     },
     "42d13997d6864497b34f2892106c8f66": {
      "model_module": "@jupyter-widgets/controls",
      "model_module_version": "1.5.0",
      "model_name": "HTMLModel",
      "state": {
       "_dom_classes": [],
       "_model_module": "@jupyter-widgets/controls",
       "_model_module_version": "1.5.0",
       "_model_name": "HTMLModel",
       "_view_count": null,
       "_view_module": "@jupyter-widgets/controls",
       "_view_module_version": "1.5.0",
       "_view_name": "HTMLView",
       "description": "",
       "description_tooltip": null,
       "layout": "IPY_MODEL_2e2e413c872c458fa2080a76e537e365",
       "placeholder": "​",
       "style": "IPY_MODEL_c829b06db20e422287750252b9bd9078",
       "value": "Downloading: 100%"
      }
     },
     "44478910bc0146229953649ffee22820": {
      "model_module": "@jupyter-widgets/controls",
      "model_module_version": "1.5.0",
      "model_name": "DescriptionStyleModel",
      "state": {
       "_model_module": "@jupyter-widgets/controls",
       "_model_module_version": "1.5.0",
       "_model_name": "DescriptionStyleModel",
       "_view_count": null,
       "_view_module": "@jupyter-widgets/base",
       "_view_module_version": "1.2.0",
       "_view_name": "StyleView",
       "description_width": ""
      }
     },
     "44b8998a5dfd4ec398a76d26151cc768": {
      "model_module": "@jupyter-widgets/controls",
      "model_module_version": "1.5.0",
      "model_name": "DescriptionStyleModel",
      "state": {
       "_model_module": "@jupyter-widgets/controls",
       "_model_module_version": "1.5.0",
       "_model_name": "DescriptionStyleModel",
       "_view_count": null,
       "_view_module": "@jupyter-widgets/base",
       "_view_module_version": "1.2.0",
       "_view_name": "StyleView",
       "description_width": ""
      }
     },
     "57642b1424854c719f94296c31de3581": {
      "model_module": "@jupyter-widgets/controls",
      "model_module_version": "1.5.0",
      "model_name": "ProgressStyleModel",
      "state": {
       "_model_module": "@jupyter-widgets/controls",
       "_model_module_version": "1.5.0",
       "_model_name": "ProgressStyleModel",
       "_view_count": null,
       "_view_module": "@jupyter-widgets/base",
       "_view_module_version": "1.2.0",
       "_view_name": "StyleView",
       "bar_color": null,
       "description_width": ""
      }
     },
     "7192eee53f5f451e9f3762d5e0b6a951": {
      "model_module": "@jupyter-widgets/base",
      "model_module_version": "1.2.0",
      "model_name": "LayoutModel",
      "state": {
       "_model_module": "@jupyter-widgets/base",
       "_model_module_version": "1.2.0",
       "_model_name": "LayoutModel",
       "_view_count": null,
       "_view_module": "@jupyter-widgets/base",
       "_view_module_version": "1.2.0",
       "_view_name": "LayoutView",
       "align_content": null,
       "align_items": null,
       "align_self": null,
       "border": null,
       "bottom": null,
       "display": null,
       "flex": null,
       "flex_flow": null,
       "grid_area": null,
       "grid_auto_columns": null,
       "grid_auto_flow": null,
       "grid_auto_rows": null,
       "grid_column": null,
       "grid_gap": null,
       "grid_row": null,
       "grid_template_areas": null,
       "grid_template_columns": null,
       "grid_template_rows": null,
       "height": null,
       "justify_content": null,
       "justify_items": null,
       "left": null,
       "margin": null,
       "max_height": null,
       "max_width": null,
       "min_height": null,
       "min_width": null,
       "object_fit": null,
       "object_position": null,
       "order": null,
       "overflow": null,
       "overflow_x": null,
       "overflow_y": null,
       "padding": null,
       "right": null,
       "top": null,
       "visibility": null,
       "width": null
      }
     },
     "71e2df07d5f740a398fae046db506b12": {
      "model_module": "@jupyter-widgets/controls",
      "model_module_version": "1.5.0",
      "model_name": "DescriptionStyleModel",
      "state": {
       "_model_module": "@jupyter-widgets/controls",
       "_model_module_version": "1.5.0",
       "_model_name": "DescriptionStyleModel",
       "_view_count": null,
       "_view_module": "@jupyter-widgets/base",
       "_view_module_version": "1.2.0",
       "_view_name": "StyleView",
       "description_width": ""
      }
     },
     "729f1687d178475f96b21280539976b4": {
      "model_module": "@jupyter-widgets/base",
      "model_module_version": "1.2.0",
      "model_name": "LayoutModel",
      "state": {
       "_model_module": "@jupyter-widgets/base",
       "_model_module_version": "1.2.0",
       "_model_name": "LayoutModel",
       "_view_count": null,
       "_view_module": "@jupyter-widgets/base",
       "_view_module_version": "1.2.0",
       "_view_name": "LayoutView",
       "align_content": null,
       "align_items": null,
       "align_self": null,
       "border": null,
       "bottom": null,
       "display": null,
       "flex": null,
       "flex_flow": null,
       "grid_area": null,
       "grid_auto_columns": null,
       "grid_auto_flow": null,
       "grid_auto_rows": null,
       "grid_column": null,
       "grid_gap": null,
       "grid_row": null,
       "grid_template_areas": null,
       "grid_template_columns": null,
       "grid_template_rows": null,
       "height": null,
       "justify_content": null,
       "justify_items": null,
       "left": null,
       "margin": null,
       "max_height": null,
       "max_width": null,
       "min_height": null,
       "min_width": null,
       "object_fit": null,
       "object_position": null,
       "order": null,
       "overflow": null,
       "overflow_x": null,
       "overflow_y": null,
       "padding": null,
       "right": null,
       "top": null,
       "visibility": null,
       "width": null
      }
     },
     "772058fdc62348daa379600cf3a56bf2": {
      "model_module": "@jupyter-widgets/controls",
      "model_module_version": "1.5.0",
      "model_name": "FloatProgressModel",
      "state": {
       "_dom_classes": [],
       "_model_module": "@jupyter-widgets/controls",
       "_model_module_version": "1.5.0",
       "_model_name": "FloatProgressModel",
       "_view_count": null,
       "_view_module": "@jupyter-widgets/controls",
       "_view_module_version": "1.5.0",
       "_view_name": "ProgressView",
       "bar_style": "success",
       "description": "",
       "description_tooltip": null,
       "layout": "IPY_MODEL_8a986a2b8279483f9a9ae3a0b5b1cb2f",
       "max": 629.0,
       "min": 0.0,
       "orientation": "horizontal",
       "style": "IPY_MODEL_c62b4f9e69b140df821e83b2cdb5dbc2",
       "value": 629.0
      }
     },
     "7b453769eaae4946825f3c4835b624ec": {
      "model_module": "@jupyter-widgets/controls",
      "model_module_version": "1.5.0",
      "model_name": "FloatProgressModel",
      "state": {
       "_dom_classes": [],
       "_model_module": "@jupyter-widgets/controls",
       "_model_module_version": "1.5.0",
       "_model_name": "FloatProgressModel",
       "_view_count": null,
       "_view_module": "@jupyter-widgets/controls",
       "_view_module_version": "1.5.0",
       "_view_name": "ProgressView",
       "bar_style": "success",
       "description": "",
       "description_tooltip": null,
       "layout": "IPY_MODEL_2c128358330d457c96863c1c3a0cec8e",
       "max": 267844284.0,
       "min": 0.0,
       "orientation": "horizontal",
       "style": "IPY_MODEL_8c01e513be2e4917981500381729842c",
       "value": 267844284.0
      }
     },
     "7b8466a8162b46e59709dad7141dac88": {
      "model_module": "@jupyter-widgets/base",
      "model_module_version": "1.2.0",
      "model_name": "LayoutModel",
      "state": {
       "_model_module": "@jupyter-widgets/base",
       "_model_module_version": "1.2.0",
       "_model_name": "LayoutModel",
       "_view_count": null,
       "_view_module": "@jupyter-widgets/base",
       "_view_module_version": "1.2.0",
       "_view_name": "LayoutView",
       "align_content": null,
       "align_items": null,
       "align_self": null,
       "border": null,
       "bottom": null,
       "display": null,
       "flex": null,
       "flex_flow": null,
       "grid_area": null,
       "grid_auto_columns": null,
       "grid_auto_flow": null,
       "grid_auto_rows": null,
       "grid_column": null,
       "grid_gap": null,
       "grid_row": null,
       "grid_template_areas": null,
       "grid_template_columns": null,
       "grid_template_rows": null,
       "height": null,
       "justify_content": null,
       "justify_items": null,
       "left": null,
       "margin": null,
       "max_height": null,
       "max_width": null,
       "min_height": null,
       "min_width": null,
       "object_fit": null,
       "object_position": null,
       "order": null,
       "overflow": null,
       "overflow_x": null,
       "overflow_y": null,
       "padding": null,
       "right": null,
       "top": null,
       "visibility": null,
       "width": null
      }
     },
     "8a986a2b8279483f9a9ae3a0b5b1cb2f": {
      "model_module": "@jupyter-widgets/base",
      "model_module_version": "1.2.0",
      "model_name": "LayoutModel",
      "state": {
       "_model_module": "@jupyter-widgets/base",
       "_model_module_version": "1.2.0",
       "_model_name": "LayoutModel",
       "_view_count": null,
       "_view_module": "@jupyter-widgets/base",
       "_view_module_version": "1.2.0",
       "_view_name": "LayoutView",
       "align_content": null,
       "align_items": null,
       "align_self": null,
       "border": null,
       "bottom": null,
       "display": null,
       "flex": null,
       "flex_flow": null,
       "grid_area": null,
       "grid_auto_columns": null,
       "grid_auto_flow": null,
       "grid_auto_rows": null,
       "grid_column": null,
       "grid_gap": null,
       "grid_row": null,
       "grid_template_areas": null,
       "grid_template_columns": null,
       "grid_template_rows": null,
       "height": null,
       "justify_content": null,
       "justify_items": null,
       "left": null,
       "margin": null,
       "max_height": null,
       "max_width": null,
       "min_height": null,
       "min_width": null,
       "object_fit": null,
       "object_position": null,
       "order": null,
       "overflow": null,
       "overflow_x": null,
       "overflow_y": null,
       "padding": null,
       "right": null,
       "top": null,
       "visibility": null,
       "width": null
      }
     },
     "8b89a9d9a71841d4ba9e7a49a16c9644": {
      "model_module": "@jupyter-widgets/base",
      "model_module_version": "1.2.0",
      "model_name": "LayoutModel",
      "state": {
       "_model_module": "@jupyter-widgets/base",
       "_model_module_version": "1.2.0",
       "_model_name": "LayoutModel",
       "_view_count": null,
       "_view_module": "@jupyter-widgets/base",
       "_view_module_version": "1.2.0",
       "_view_name": "LayoutView",
       "align_content": null,
       "align_items": null,
       "align_self": null,
       "border": null,
       "bottom": null,
       "display": null,
       "flex": null,
       "flex_flow": null,
       "grid_area": null,
       "grid_auto_columns": null,
       "grid_auto_flow": null,
       "grid_auto_rows": null,
       "grid_column": null,
       "grid_gap": null,
       "grid_row": null,
       "grid_template_areas": null,
       "grid_template_columns": null,
       "grid_template_rows": null,
       "height": null,
       "justify_content": null,
       "justify_items": null,
       "left": null,
       "margin": null,
       "max_height": null,
       "max_width": null,
       "min_height": null,
       "min_width": null,
       "object_fit": null,
       "object_position": null,
       "order": null,
       "overflow": null,
       "overflow_x": null,
       "overflow_y": null,
       "padding": null,
       "right": null,
       "top": null,
       "visibility": null,
       "width": null
      }
     },
     "8c01e513be2e4917981500381729842c": {
      "model_module": "@jupyter-widgets/controls",
      "model_module_version": "1.5.0",
      "model_name": "ProgressStyleModel",
      "state": {
       "_model_module": "@jupyter-widgets/controls",
       "_model_module_version": "1.5.0",
       "_model_name": "ProgressStyleModel",
       "_view_count": null,
       "_view_module": "@jupyter-widgets/base",
       "_view_module_version": "1.2.0",
       "_view_name": "StyleView",
       "bar_color": null,
       "description_width": ""
      }
     },
     "8ca07908d2bb40218114a9fffe4d7a00": {
      "model_module": "@jupyter-widgets/base",
      "model_module_version": "1.2.0",
      "model_name": "LayoutModel",
      "state": {
       "_model_module": "@jupyter-widgets/base",
       "_model_module_version": "1.2.0",
       "_model_name": "LayoutModel",
       "_view_count": null,
       "_view_module": "@jupyter-widgets/base",
       "_view_module_version": "1.2.0",
       "_view_name": "LayoutView",
       "align_content": null,
       "align_items": null,
       "align_self": null,
       "border": null,
       "bottom": null,
       "display": null,
       "flex": null,
       "flex_flow": null,
       "grid_area": null,
       "grid_auto_columns": null,
       "grid_auto_flow": null,
       "grid_auto_rows": null,
       "grid_column": null,
       "grid_gap": null,
       "grid_row": null,
       "grid_template_areas": null,
       "grid_template_columns": null,
       "grid_template_rows": null,
       "height": null,
       "justify_content": null,
       "justify_items": null,
       "left": null,
       "margin": null,
       "max_height": null,
       "max_width": null,
       "min_height": null,
       "min_width": null,
       "object_fit": null,
       "object_position": null,
       "order": null,
       "overflow": null,
       "overflow_x": null,
       "overflow_y": null,
       "padding": null,
       "right": null,
       "top": null,
       "visibility": null,
       "width": null
      }
     },
     "8f75fd175e0d493bbf542dbf6980041c": {
      "model_module": "@jupyter-widgets/controls",
      "model_module_version": "1.5.0",
      "model_name": "HTMLModel",
      "state": {
       "_dom_classes": [],
       "_model_module": "@jupyter-widgets/controls",
       "_model_module_version": "1.5.0",
       "_model_name": "HTMLModel",
       "_view_count": null,
       "_view_module": "@jupyter-widgets/controls",
       "_view_module_version": "1.5.0",
       "_view_name": "HTMLView",
       "description": "",
       "description_tooltip": null,
       "layout": "IPY_MODEL_2077fdff272745f9a537bec6b8e9bc58",
       "placeholder": "​",
       "style": "IPY_MODEL_a9f28d18ee824cdaa273a84d0b0f5e8b",
       "value": " 226k/226k [00:00&lt;00:00, 334kB/s]"
      }
     },
     "94e4940360154ef39f66c40c7a5f9c50": {
      "model_module": "@jupyter-widgets/controls",
      "model_module_version": "1.5.0",
      "model_name": "HBoxModel",
      "state": {
       "_dom_classes": [],
       "_model_module": "@jupyter-widgets/controls",
       "_model_module_version": "1.5.0",
       "_model_name": "HBoxModel",
       "_view_count": null,
       "_view_module": "@jupyter-widgets/controls",
       "_view_module_version": "1.5.0",
       "_view_name": "HBoxView",
       "box_style": "",
       "children": [
        "IPY_MODEL_c54e712d74654e928d36470917f00a9e",
        "IPY_MODEL_127d468f7f074f4ea883114021701851",
        "IPY_MODEL_31dbe12efa2d4002bdcf0fb70feeb03b"
       ],
       "layout": "IPY_MODEL_3c4ec2a9cb9b4ee29ac3d2604c341c0c"
      }
     },
     "991c717241554d6bbb32f80685aaf3b1": {
      "model_module": "@jupyter-widgets/base",
      "model_module_version": "1.2.0",
      "model_name": "LayoutModel",
      "state": {
       "_model_module": "@jupyter-widgets/base",
       "_model_module_version": "1.2.0",
       "_model_name": "LayoutModel",
       "_view_count": null,
       "_view_module": "@jupyter-widgets/base",
       "_view_module_version": "1.2.0",
       "_view_name": "LayoutView",
       "align_content": null,
       "align_items": null,
       "align_self": null,
       "border": null,
       "bottom": null,
       "display": null,
       "flex": null,
       "flex_flow": null,
       "grid_area": null,
       "grid_auto_columns": null,
       "grid_auto_flow": null,
       "grid_auto_rows": null,
       "grid_column": null,
       "grid_gap": null,
       "grid_row": null,
       "grid_template_areas": null,
       "grid_template_columns": null,
       "grid_template_rows": null,
       "height": null,
       "justify_content": null,
       "justify_items": null,
       "left": null,
       "margin": null,
       "max_height": null,
       "max_width": null,
       "min_height": null,
       "min_width": null,
       "object_fit": null,
       "object_position": null,
       "order": null,
       "overflow": null,
       "overflow_x": null,
       "overflow_y": null,
       "padding": null,
       "right": null,
       "top": null,
       "visibility": null,
       "width": null
      }
     },
     "a6f785c1707443aba5489b77bb74b106": {
      "model_module": "@jupyter-widgets/controls",
      "model_module_version": "1.5.0",
      "model_name": "DescriptionStyleModel",
      "state": {
       "_model_module": "@jupyter-widgets/controls",
       "_model_module_version": "1.5.0",
       "_model_name": "DescriptionStyleModel",
       "_view_count": null,
       "_view_module": "@jupyter-widgets/base",
       "_view_module_version": "1.2.0",
       "_view_name": "StyleView",
       "description_width": ""
      }
     },
     "a9f28d18ee824cdaa273a84d0b0f5e8b": {
      "model_module": "@jupyter-widgets/controls",
      "model_module_version": "1.5.0",
      "model_name": "DescriptionStyleModel",
      "state": {
       "_model_module": "@jupyter-widgets/controls",
       "_model_module_version": "1.5.0",
       "_model_name": "DescriptionStyleModel",
       "_view_count": null,
       "_view_module": "@jupyter-widgets/base",
       "_view_module_version": "1.2.0",
       "_view_name": "StyleView",
       "description_width": ""
      }
     },
     "b5a8b40fb7d34d5e91201c2b30243fd0": {
      "model_module": "@jupyter-widgets/controls",
      "model_module_version": "1.5.0",
      "model_name": "HBoxModel",
      "state": {
       "_dom_classes": [],
       "_model_module": "@jupyter-widgets/controls",
       "_model_module_version": "1.5.0",
       "_model_name": "HBoxModel",
       "_view_count": null,
       "_view_module": "@jupyter-widgets/controls",
       "_view_module_version": "1.5.0",
       "_view_name": "HBoxView",
       "box_style": "",
       "children": [
        "IPY_MODEL_1d69c78af5924cf7acdd837de58b8eeb",
        "IPY_MODEL_053286c0d85b44dfa0f3738d25a5f370",
        "IPY_MODEL_8f75fd175e0d493bbf542dbf6980041c"
       ],
       "layout": "IPY_MODEL_7192eee53f5f451e9f3762d5e0b6a951"
      }
     },
     "b8daf090d9204435aebe658b994e3d11": {
      "model_module": "@jupyter-widgets/controls",
      "model_module_version": "1.5.0",
      "model_name": "DescriptionStyleModel",
      "state": {
       "_model_module": "@jupyter-widgets/controls",
       "_model_module_version": "1.5.0",
       "_model_name": "DescriptionStyleModel",
       "_view_count": null,
       "_view_module": "@jupyter-widgets/base",
       "_view_module_version": "1.2.0",
       "_view_name": "StyleView",
       "description_width": ""
      }
     },
     "c4237b5d4b7243998d79bc54ebf7f893": {
      "model_module": "@jupyter-widgets/base",
      "model_module_version": "1.2.0",
      "model_name": "LayoutModel",
      "state": {
       "_model_module": "@jupyter-widgets/base",
       "_model_module_version": "1.2.0",
       "_model_name": "LayoutModel",
       "_view_count": null,
       "_view_module": "@jupyter-widgets/base",
       "_view_module_version": "1.2.0",
       "_view_name": "LayoutView",
       "align_content": null,
       "align_items": null,
       "align_self": null,
       "border": null,
       "bottom": null,
       "display": null,
       "flex": null,
       "flex_flow": null,
       "grid_area": null,
       "grid_auto_columns": null,
       "grid_auto_flow": null,
       "grid_auto_rows": null,
       "grid_column": null,
       "grid_gap": null,
       "grid_row": null,
       "grid_template_areas": null,
       "grid_template_columns": null,
       "grid_template_rows": null,
       "height": null,
       "justify_content": null,
       "justify_items": null,
       "left": null,
       "margin": null,
       "max_height": null,
       "max_width": null,
       "min_height": null,
       "min_width": null,
       "object_fit": null,
       "object_position": null,
       "order": null,
       "overflow": null,
       "overflow_x": null,
       "overflow_y": null,
       "padding": null,
       "right": null,
       "top": null,
       "visibility": null,
       "width": null
      }
     },
     "c461cd7350b64640872c642a25636e1a": {
      "model_module": "@jupyter-widgets/controls",
      "model_module_version": "1.5.0",
      "model_name": "HTMLModel",
      "state": {
       "_dom_classes": [],
       "_model_module": "@jupyter-widgets/controls",
       "_model_module_version": "1.5.0",
       "_model_name": "HTMLModel",
       "_view_count": null,
       "_view_module": "@jupyter-widgets/controls",
       "_view_module_version": "1.5.0",
       "_view_name": "HTMLView",
       "description": "",
       "description_tooltip": null,
       "layout": "IPY_MODEL_37b01e4eeb1749aa99af331264ef9ef3",
       "placeholder": "​",
       "style": "IPY_MODEL_da5d69847a4042e9a27a9823397727c8",
       "value": " 255M/255M [00:11&lt;00:00, 24.4MB/s]"
      }
     },
     "c54e712d74654e928d36470917f00a9e": {
      "model_module": "@jupyter-widgets/controls",
      "model_module_version": "1.5.0",
      "model_name": "HTMLModel",
      "state": {
       "_dom_classes": [],
       "_model_module": "@jupyter-widgets/controls",
       "_model_module_version": "1.5.0",
       "_model_name": "HTMLModel",
       "_view_count": null,
       "_view_module": "@jupyter-widgets/controls",
       "_view_module_version": "1.5.0",
       "_view_name": "HTMLView",
       "description": "",
       "description_tooltip": null,
       "layout": "IPY_MODEL_e888411f43ff4eaf8910718cec09515a",
       "placeholder": "​",
       "style": "IPY_MODEL_44b8998a5dfd4ec398a76d26151cc768",
       "value": "Downloading: 100%"
      }
     },
     "c62b4f9e69b140df821e83b2cdb5dbc2": {
      "model_module": "@jupyter-widgets/controls",
      "model_module_version": "1.5.0",
      "model_name": "ProgressStyleModel",
      "state": {
       "_model_module": "@jupyter-widgets/controls",
       "_model_module_version": "1.5.0",
       "_model_name": "ProgressStyleModel",
       "_view_count": null,
       "_view_module": "@jupyter-widgets/base",
       "_view_module_version": "1.2.0",
       "_view_name": "StyleView",
       "bar_color": null,
       "description_width": ""
      }
     },
     "c829b06db20e422287750252b9bd9078": {
      "model_module": "@jupyter-widgets/controls",
      "model_module_version": "1.5.0",
      "model_name": "DescriptionStyleModel",
      "state": {
       "_model_module": "@jupyter-widgets/controls",
       "_model_module_version": "1.5.0",
       "_model_name": "DescriptionStyleModel",
       "_view_count": null,
       "_view_module": "@jupyter-widgets/base",
       "_view_module_version": "1.2.0",
       "_view_name": "StyleView",
       "description_width": ""
      }
     },
     "cf9ddda0832f4b948499b8a3682ee0d0": {
      "model_module": "@jupyter-widgets/controls",
      "model_module_version": "1.5.0",
      "model_name": "HBoxModel",
      "state": {
       "_dom_classes": [],
       "_model_module": "@jupyter-widgets/controls",
       "_model_module_version": "1.5.0",
       "_model_name": "HBoxModel",
       "_view_count": null,
       "_view_module": "@jupyter-widgets/controls",
       "_view_module_version": "1.5.0",
       "_view_name": "HBoxView",
       "box_style": "",
       "children": [
        "IPY_MODEL_d0973114b7604a2eb607b372649df614",
        "IPY_MODEL_7b453769eaae4946825f3c4835b624ec",
        "IPY_MODEL_c461cd7350b64640872c642a25636e1a"
       ],
       "layout": "IPY_MODEL_991c717241554d6bbb32f80685aaf3b1"
      }
     },
     "d0973114b7604a2eb607b372649df614": {
      "model_module": "@jupyter-widgets/controls",
      "model_module_version": "1.5.0",
      "model_name": "HTMLModel",
      "state": {
       "_dom_classes": [],
       "_model_module": "@jupyter-widgets/controls",
       "_model_module_version": "1.5.0",
       "_model_name": "HTMLModel",
       "_view_count": null,
       "_view_module": "@jupyter-widgets/controls",
       "_view_module_version": "1.5.0",
       "_view_name": "HTMLView",
       "description": "",
       "description_tooltip": null,
       "layout": "IPY_MODEL_7b8466a8162b46e59709dad7141dac88",
       "placeholder": "​",
       "style": "IPY_MODEL_b8daf090d9204435aebe658b994e3d11",
       "value": "Downloading: 100%"
      }
     },
     "da5d69847a4042e9a27a9823397727c8": {
      "model_module": "@jupyter-widgets/controls",
      "model_module_version": "1.5.0",
      "model_name": "DescriptionStyleModel",
      "state": {
       "_model_module": "@jupyter-widgets/controls",
       "_model_module_version": "1.5.0",
       "_model_name": "DescriptionStyleModel",
       "_view_count": null,
       "_view_module": "@jupyter-widgets/base",
       "_view_module_version": "1.2.0",
       "_view_name": "StyleView",
       "description_width": ""
      }
     },
     "ddb9795980534848a838addffb34eb02": {
      "model_module": "@jupyter-widgets/controls",
      "model_module_version": "1.5.0",
      "model_name": "HTMLModel",
      "state": {
       "_dom_classes": [],
       "_model_module": "@jupyter-widgets/controls",
       "_model_module_version": "1.5.0",
       "_model_name": "HTMLModel",
       "_view_count": null,
       "_view_module": "@jupyter-widgets/controls",
       "_view_module_version": "1.5.0",
       "_view_name": "HTMLView",
       "description": "",
       "description_tooltip": null,
       "layout": "IPY_MODEL_29fe6a854fbd4073a8fd12d3ac14cac3",
       "placeholder": "​",
       "style": "IPY_MODEL_a6f785c1707443aba5489b77bb74b106",
       "value": " 629/629 [00:00&lt;00:00, 22.0kB/s]"
      }
     },
     "e888411f43ff4eaf8910718cec09515a": {
      "model_module": "@jupyter-widgets/base",
      "model_module_version": "1.2.0",
      "model_name": "LayoutModel",
      "state": {
       "_model_module": "@jupyter-widgets/base",
       "_model_module_version": "1.2.0",
       "_model_name": "LayoutModel",
       "_view_count": null,
       "_view_module": "@jupyter-widgets/base",
       "_view_module_version": "1.2.0",
       "_view_name": "LayoutView",
       "align_content": null,
       "align_items": null,
       "align_self": null,
       "border": null,
       "bottom": null,
       "display": null,
       "flex": null,
       "flex_flow": null,
       "grid_area": null,
       "grid_auto_columns": null,
       "grid_auto_flow": null,
       "grid_auto_rows": null,
       "grid_column": null,
       "grid_gap": null,
       "grid_row": null,
       "grid_template_areas": null,
       "grid_template_columns": null,
       "grid_template_rows": null,
       "height": null,
       "justify_content": null,
       "justify_items": null,
       "left": null,
       "margin": null,
       "max_height": null,
       "max_width": null,
       "min_height": null,
       "min_width": null,
       "object_fit": null,
       "object_position": null,
       "order": null,
       "overflow": null,
       "overflow_x": null,
       "overflow_y": null,
       "padding": null,
       "right": null,
       "top": null,
       "visibility": null,
       "width": null
      }
     },
     "fe4829ebb426409ca3d4907cd6403189": {
      "model_module": "@jupyter-widgets/controls",
      "model_module_version": "1.5.0",
      "model_name": "HBoxModel",
      "state": {
       "_dom_classes": [],
       "_model_module": "@jupyter-widgets/controls",
       "_model_module_version": "1.5.0",
       "_model_name": "HBoxModel",
       "_view_count": null,
       "_view_module": "@jupyter-widgets/controls",
       "_view_module_version": "1.5.0",
       "_view_name": "HBoxView",
       "box_style": "",
       "children": [
        "IPY_MODEL_42d13997d6864497b34f2892106c8f66",
        "IPY_MODEL_772058fdc62348daa379600cf3a56bf2",
        "IPY_MODEL_ddb9795980534848a838addffb34eb02"
       ],
       "layout": "IPY_MODEL_729f1687d178475f96b21280539976b4"
      }
     }
    },
    "version_major": 2,
    "version_minor": 0
   }
  }
 },
 "nbformat": 4,
 "nbformat_minor": 5
}
